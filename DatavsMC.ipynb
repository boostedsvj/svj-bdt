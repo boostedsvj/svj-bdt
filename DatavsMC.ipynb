{
 "cells": [
  {
   "cell_type": "code",
   "execution_count": 2,
   "id": "745a76d4",
   "metadata": {},
   "outputs": [],
   "source": [
    "import glob\n",
    "import matplotlib.pyplot as plt\n",
    "import numpy as np\n",
    "from matplotlib.colors import LogNorm\n",
    "from scripts import combine_dirs_with_weights\n",
    "import bdtcode.histogramming as H\n",
    "from bdtcode.utils import *\n",
    "import bdtcode.sample"
   ]
  },
  {
   "cell_type": "code",
   "execution_count": 3,
   "id": "8b4a3621",
   "metadata": {},
   "outputs": [],
   "source": [
    "data_prehem = H.combine_npzs(glob.glob('/home/snabili/hadoop/UltraLegacy_npz/Data_04142022_Run2018A_UL_nortxcuts_Run2018A-UL2018-v1/JetHT/*.npz'))"
   ]
  },
  {
   "cell_type": "code",
   "execution_count": 4,
   "id": "174f02b2",
   "metadata": {},
   "outputs": [
    {
     "ename": "KeyboardInterrupt",
     "evalue": "",
     "output_type": "error",
     "traceback": [
      "\u001b[0;31m---------------------------------------------------------------------------\u001b[0m",
      "\u001b[0;31mKeyboardInterrupt\u001b[0m                         Traceback (most recent call last)",
      "\u001b[0;32m/tmp/ipykernel_1426152/2307676262.py\u001b[0m in \u001b[0;36m<module>\u001b[0;34m\u001b[0m\n\u001b[1;32m      4\u001b[0m         ]\n\u001b[1;32m      5\u001b[0m \u001b[0mdata_weights\u001b[0m \u001b[0;34m=\u001b[0m \u001b[0;34m[\u001b[0m\u001b[0;36m1\u001b[0m\u001b[0;34m,\u001b[0m\u001b[0;36m1\u001b[0m\u001b[0;34m]\u001b[0m\u001b[0;34m\u001b[0m\u001b[0;34m\u001b[0m\u001b[0m\n\u001b[0;32m----> 6\u001b[0;31m \u001b[0mdata_posthem\u001b[0m \u001b[0;34m=\u001b[0m \u001b[0mcombine_dirs_with_weights\u001b[0m\u001b[0;34m(\u001b[0m\u001b[0mdata_dirs\u001b[0m\u001b[0;34m,\u001b[0m \u001b[0mdata_weights\u001b[0m\u001b[0;34m)\u001b[0m\u001b[0;34m\u001b[0m\u001b[0;34m\u001b[0m\u001b[0m\n\u001b[0m",
      "\u001b[0;32m~/Data_ControlRegion/svj-bdt/scripts.py\u001b[0m in \u001b[0;36mcombine_dirs_with_weights\u001b[0;34m(directories, weights)\u001b[0m\n\u001b[1;32m    396\u001b[0m \u001b[0;34m\u001b[0m\u001b[0m\n\u001b[1;32m    397\u001b[0m \u001b[0;32mdef\u001b[0m \u001b[0mcombine_dirs_with_weights\u001b[0m\u001b[0;34m(\u001b[0m\u001b[0mdirectories\u001b[0m\u001b[0;34m,\u001b[0m \u001b[0mweights\u001b[0m\u001b[0;34m)\u001b[0m\u001b[0;34m:\u001b[0m\u001b[0;34m\u001b[0m\u001b[0;34m\u001b[0m\u001b[0m\n\u001b[0;32m--> 398\u001b[0;31m     \u001b[0mds\u001b[0m \u001b[0;34m=\u001b[0m \u001b[0;34m[\u001b[0m\u001b[0mH\u001b[0m\u001b[0;34m.\u001b[0m\u001b[0mcombine_npzs\u001b[0m\u001b[0;34m(\u001b[0m\u001b[0mglob\u001b[0m\u001b[0;34m.\u001b[0m\u001b[0mglob\u001b[0m\u001b[0;34m(\u001b[0m\u001b[0mosp\u001b[0m\u001b[0;34m.\u001b[0m\u001b[0mjoin\u001b[0m\u001b[0;34m(\u001b[0m\u001b[0mdirectory\u001b[0m\u001b[0;34m,\u001b[0m \u001b[0;34m'*.npz'\u001b[0m\u001b[0;34m)\u001b[0m\u001b[0;34m)\u001b[0m\u001b[0;34m)\u001b[0m \u001b[0;32mfor\u001b[0m \u001b[0mdirectory\u001b[0m \u001b[0;32min\u001b[0m \u001b[0mdirectories\u001b[0m\u001b[0;34m]\u001b[0m\u001b[0;34m\u001b[0m\u001b[0;34m\u001b[0m\u001b[0m\n\u001b[0m\u001b[1;32m    399\u001b[0m     \u001b[0;32mreturn\u001b[0m \u001b[0mH\u001b[0m\u001b[0;34m.\u001b[0m\u001b[0mcombine_ds_with_weights\u001b[0m\u001b[0;34m(\u001b[0m\u001b[0mds\u001b[0m\u001b[0;34m,\u001b[0m \u001b[0mweights\u001b[0m\u001b[0;34m)\u001b[0m\u001b[0;34m\u001b[0m\u001b[0;34m\u001b[0m\u001b[0m\n\u001b[1;32m    400\u001b[0m \u001b[0;34m\u001b[0m\u001b[0m\n",
      "\u001b[0;32m~/Data_ControlRegion/svj-bdt/scripts.py\u001b[0m in \u001b[0;36m<listcomp>\u001b[0;34m(.0)\u001b[0m\n\u001b[1;32m    396\u001b[0m \u001b[0;34m\u001b[0m\u001b[0m\n\u001b[1;32m    397\u001b[0m \u001b[0;32mdef\u001b[0m \u001b[0mcombine_dirs_with_weights\u001b[0m\u001b[0;34m(\u001b[0m\u001b[0mdirectories\u001b[0m\u001b[0;34m,\u001b[0m \u001b[0mweights\u001b[0m\u001b[0;34m)\u001b[0m\u001b[0;34m:\u001b[0m\u001b[0;34m\u001b[0m\u001b[0;34m\u001b[0m\u001b[0m\n\u001b[0;32m--> 398\u001b[0;31m     \u001b[0mds\u001b[0m \u001b[0;34m=\u001b[0m \u001b[0;34m[\u001b[0m\u001b[0mH\u001b[0m\u001b[0;34m.\u001b[0m\u001b[0mcombine_npzs\u001b[0m\u001b[0;34m(\u001b[0m\u001b[0mglob\u001b[0m\u001b[0;34m.\u001b[0m\u001b[0mglob\u001b[0m\u001b[0;34m(\u001b[0m\u001b[0mosp\u001b[0m\u001b[0;34m.\u001b[0m\u001b[0mjoin\u001b[0m\u001b[0;34m(\u001b[0m\u001b[0mdirectory\u001b[0m\u001b[0;34m,\u001b[0m \u001b[0;34m'*.npz'\u001b[0m\u001b[0;34m)\u001b[0m\u001b[0;34m)\u001b[0m\u001b[0;34m)\u001b[0m \u001b[0;32mfor\u001b[0m \u001b[0mdirectory\u001b[0m \u001b[0;32min\u001b[0m \u001b[0mdirectories\u001b[0m\u001b[0;34m]\u001b[0m\u001b[0;34m\u001b[0m\u001b[0;34m\u001b[0m\u001b[0m\n\u001b[0m\u001b[1;32m    399\u001b[0m     \u001b[0;32mreturn\u001b[0m \u001b[0mH\u001b[0m\u001b[0;34m.\u001b[0m\u001b[0mcombine_ds_with_weights\u001b[0m\u001b[0;34m(\u001b[0m\u001b[0mds\u001b[0m\u001b[0;34m,\u001b[0m \u001b[0mweights\u001b[0m\u001b[0;34m)\u001b[0m\u001b[0;34m\u001b[0m\u001b[0;34m\u001b[0m\u001b[0m\n\u001b[1;32m    400\u001b[0m \u001b[0;34m\u001b[0m\u001b[0m\n",
      "\u001b[0;32m~/Data_ControlRegion/svj-bdt/bdtcode/histogramming.py\u001b[0m in \u001b[0;36mcombine_npzs\u001b[0;34m(npzs)\u001b[0m\n\u001b[1;32m    117\u001b[0m     \u001b[0mLike\u001b[0m \u001b[0mcombine_ds\u001b[0m\u001b[0;34m,\u001b[0m \u001b[0mbut\u001b[0m \u001b[0minstead\u001b[0m \u001b[0mtakes\u001b[0m \u001b[0man\u001b[0m \u001b[0miterable\u001b[0m \u001b[0mof\u001b[0m \u001b[0mnpz\u001b[0m \u001b[0mfiles\u001b[0m\u001b[0;34m\u001b[0m\u001b[0;34m\u001b[0m\u001b[0m\n\u001b[1;32m    118\u001b[0m     \"\"\"\n\u001b[0;32m--> 119\u001b[0;31m     \u001b[0;32mreturn\u001b[0m \u001b[0mcombine_ds\u001b[0m\u001b[0;34m(\u001b[0m\u001b[0;34m(\u001b[0m\u001b[0mnp\u001b[0m\u001b[0;34m.\u001b[0m\u001b[0mload\u001b[0m\u001b[0;34m(\u001b[0m\u001b[0mnpz\u001b[0m\u001b[0;34m)\u001b[0m \u001b[0;32mfor\u001b[0m \u001b[0mnpz\u001b[0m \u001b[0;32min\u001b[0m \u001b[0mnpzs\u001b[0m\u001b[0;34m)\u001b[0m\u001b[0;34m)\u001b[0m\u001b[0;34m\u001b[0m\u001b[0;34m\u001b[0m\u001b[0m\n\u001b[0m\u001b[1;32m    120\u001b[0m \u001b[0;34m\u001b[0m\u001b[0m\n\u001b[1;32m    121\u001b[0m \u001b[0;32mdef\u001b[0m \u001b[0mnormalize\u001b[0m\u001b[0;34m(\u001b[0m\u001b[0mh\u001b[0m\u001b[0;34m,\u001b[0m \u001b[0mnormalization\u001b[0m\u001b[0;34m)\u001b[0m\u001b[0;34m:\u001b[0m\u001b[0;34m\u001b[0m\u001b[0;34m\u001b[0m\u001b[0m\n",
      "\u001b[0;32m~/Data_ControlRegion/svj-bdt/bdtcode/histogramming.py\u001b[0m in \u001b[0;36mcombine_ds\u001b[0;34m(ds)\u001b[0m\n\u001b[1;32m     90\u001b[0m     \"\"\"\n\u001b[1;32m     91\u001b[0m     \u001b[0mcombined\u001b[0m \u001b[0;34m=\u001b[0m \u001b[0;34m{\u001b[0m\u001b[0;34m}\u001b[0m\u001b[0;34m\u001b[0m\u001b[0;34m\u001b[0m\u001b[0m\n\u001b[0;32m---> 92\u001b[0;31m     \u001b[0;32mfor\u001b[0m \u001b[0md\u001b[0m \u001b[0;32min\u001b[0m \u001b[0mds\u001b[0m\u001b[0;34m:\u001b[0m\u001b[0;34m\u001b[0m\u001b[0;34m\u001b[0m\u001b[0m\n\u001b[0m\u001b[1;32m     93\u001b[0m         \u001b[0;32mfor\u001b[0m \u001b[0mkey\u001b[0m\u001b[0;34m,\u001b[0m \u001b[0mvalue\u001b[0m \u001b[0;32min\u001b[0m \u001b[0md\u001b[0m\u001b[0;34m.\u001b[0m\u001b[0mitems\u001b[0m\u001b[0;34m(\u001b[0m\u001b[0;34m)\u001b[0m\u001b[0;34m:\u001b[0m\u001b[0;34m\u001b[0m\u001b[0;34m\u001b[0m\u001b[0m\n\u001b[1;32m     94\u001b[0m             \u001b[0;32mif\u001b[0m \u001b[0;32mnot\u001b[0m \u001b[0mkey\u001b[0m \u001b[0;32min\u001b[0m \u001b[0mcombined\u001b[0m\u001b[0;34m:\u001b[0m \u001b[0mcombined\u001b[0m\u001b[0;34m[\u001b[0m\u001b[0mkey\u001b[0m\u001b[0;34m]\u001b[0m \u001b[0;34m=\u001b[0m \u001b[0;34m[\u001b[0m\u001b[0;34m]\u001b[0m\u001b[0;34m\u001b[0m\u001b[0;34m\u001b[0m\u001b[0m\n",
      "\u001b[0;32m~/Data_ControlRegion/svj-bdt/bdtcode/histogramming.py\u001b[0m in \u001b[0;36m<genexpr>\u001b[0;34m(.0)\u001b[0m\n\u001b[1;32m    117\u001b[0m     \u001b[0mLike\u001b[0m \u001b[0mcombine_ds\u001b[0m\u001b[0;34m,\u001b[0m \u001b[0mbut\u001b[0m \u001b[0minstead\u001b[0m \u001b[0mtakes\u001b[0m \u001b[0man\u001b[0m \u001b[0miterable\u001b[0m \u001b[0mof\u001b[0m \u001b[0mnpz\u001b[0m \u001b[0mfiles\u001b[0m\u001b[0;34m\u001b[0m\u001b[0;34m\u001b[0m\u001b[0m\n\u001b[1;32m    118\u001b[0m     \"\"\"\n\u001b[0;32m--> 119\u001b[0;31m     \u001b[0;32mreturn\u001b[0m \u001b[0mcombine_ds\u001b[0m\u001b[0;34m(\u001b[0m\u001b[0;34m(\u001b[0m\u001b[0mnp\u001b[0m\u001b[0;34m.\u001b[0m\u001b[0mload\u001b[0m\u001b[0;34m(\u001b[0m\u001b[0mnpz\u001b[0m\u001b[0;34m)\u001b[0m \u001b[0;32mfor\u001b[0m \u001b[0mnpz\u001b[0m \u001b[0;32min\u001b[0m \u001b[0mnpzs\u001b[0m\u001b[0;34m)\u001b[0m\u001b[0;34m)\u001b[0m\u001b[0;34m\u001b[0m\u001b[0;34m\u001b[0m\u001b[0m\n\u001b[0m\u001b[1;32m    120\u001b[0m \u001b[0;34m\u001b[0m\u001b[0m\n\u001b[1;32m    121\u001b[0m \u001b[0;32mdef\u001b[0m \u001b[0mnormalize\u001b[0m\u001b[0;34m(\u001b[0m\u001b[0mh\u001b[0m\u001b[0;34m,\u001b[0m \u001b[0mnormalization\u001b[0m\u001b[0;34m)\u001b[0m\u001b[0;34m:\u001b[0m\u001b[0;34m\u001b[0m\u001b[0;34m\u001b[0m\u001b[0m\n",
      "\u001b[0;32m~/miniconda3/envs/svj-bdt/lib/python3.9/site-packages/numpy/lib/npyio.py\u001b[0m in \u001b[0;36mload\u001b[0;34m(file, mmap_mode, allow_pickle, fix_imports, encoding)\u001b[0m\n\u001b[1;32m    424\u001b[0m         \u001b[0m_ZIP_SUFFIX\u001b[0m \u001b[0;34m=\u001b[0m \u001b[0;34mb'PK\\x05\\x06'\u001b[0m \u001b[0;31m# empty zip files start with this\u001b[0m\u001b[0;34m\u001b[0m\u001b[0;34m\u001b[0m\u001b[0m\n\u001b[1;32m    425\u001b[0m         \u001b[0mN\u001b[0m \u001b[0;34m=\u001b[0m \u001b[0mlen\u001b[0m\u001b[0;34m(\u001b[0m\u001b[0mformat\u001b[0m\u001b[0;34m.\u001b[0m\u001b[0mMAGIC_PREFIX\u001b[0m\u001b[0;34m)\u001b[0m\u001b[0;34m\u001b[0m\u001b[0;34m\u001b[0m\u001b[0m\n\u001b[0;32m--> 426\u001b[0;31m         \u001b[0mmagic\u001b[0m \u001b[0;34m=\u001b[0m \u001b[0mfid\u001b[0m\u001b[0;34m.\u001b[0m\u001b[0mread\u001b[0m\u001b[0;34m(\u001b[0m\u001b[0mN\u001b[0m\u001b[0;34m)\u001b[0m\u001b[0;34m\u001b[0m\u001b[0;34m\u001b[0m\u001b[0m\n\u001b[0m\u001b[1;32m    427\u001b[0m         \u001b[0;31m# If the file size is less than N, we need to make sure not\u001b[0m\u001b[0;34m\u001b[0m\u001b[0;34m\u001b[0m\u001b[0m\n\u001b[1;32m    428\u001b[0m         \u001b[0;31m# to seek past the beginning of the file\u001b[0m\u001b[0;34m\u001b[0m\u001b[0;34m\u001b[0m\u001b[0m\n",
      "\u001b[0;31mKeyboardInterrupt\u001b[0m: "
     ]
    }
   ],
   "source": [
    "data_dirs = [\n",
    "        '/home/snabili/hadoop/UltraLegacy_npz/Data_04142022_nortxcuts_Run2018C-UL2018-v1/JetHT',\n",
    "        '/home/snabili/hadoop/UltraLegacy_npz/Data_04142022_nortxcuts_Run2018D-UL2018-v1/JetHT'\n",
    "        ]\n",
    "data_weights = [1,1]\n",
    "data_posthem = combine_dirs_with_weights(data_dirs, data_weights)"
   ]
  },
  {
   "cell_type": "code",
   "execution_count": 8,
   "id": "cd5f618f",
   "metadata": {
    "scrolled": false
   },
   "outputs": [
    {
     "name": "stdout",
     "output_type": "stream",
     "text": [
      "Counts:\n",
      "0 :  1068861 available, using 1068861\n",
      "1 : 24538916 available, using 2181507\n",
      "2 : 57173617 available, using 1122416\n",
      "3 : 31408678 available, using 187624\n",
      "4 : 16160652 available, using 51702\n",
      "5 :  8515869 available, using 4254\n",
      "6 :  4029112 available, using 541\n",
      "7 :  2053302 available, using 30\n",
      "8 :   642277 available, using 0\n",
      "Counts:\n",
      "0 :  1068861 available, using 1068861\n",
      "1 : 24538916 available, using 2181507\n",
      "2 : 57173617 available, using 1122416\n",
      "3 : 31408678 available, using 187624\n",
      "4 : 16160652 available, using 51702\n",
      "5 :  8515869 available, using 4254\n",
      "6 :  4029112 available, using 541\n",
      "7 :  2053302 available, using 30\n",
      "8 :   642277 available, using 0\n"
     ]
    }
   ],
   "source": [
    "qcd_sel_eff = np.array([0.0185, 0.468, 0.847, 0.8452, 0.819, 0.7756, 0.7334, 0.6849, 0.6423])\n",
    "qcd_crossections = np.array([6832.0, 551.2, 156.7, 26.25, 7.465, 0.6487, 0.08734, 0.005237, 0.0001352])\n",
    "\n",
    "\n",
    "qcd_dirs = [\n",
    "        '/home/snabili/hadoop/UltraLegacy_npz/QCD_04132022_2018_UL_nortxcuts_Summer20UL18/QCD_Pt_300to470_TuneCP5_13TeV_pythia8',\n",
    "        '/home/snabili/hadoop/UltraLegacy_npz/QCD_04132022_2018_UL_nortxcuts_Summer20UL18/QCD_Pt_470to600_TuneCP5_13TeV_pythia8',\n",
    "        '/home/snabili/hadoop/UltraLegacy_npz/QCD_04132022_2018_UL_nortxcuts_Summer20UL18/QCD_Pt_600to800_TuneCP5_13TeV_pythia8',\n",
    "        '/home/snabili/hadoop/UltraLegacy_npz/QCD_04132022_2018_UL_nortxcuts_Summer20UL18/QCD_Pt_800to1000_TuneCP5_13TeV_pythia8',\n",
    "        '/home/snabili/hadoop/UltraLegacy_npz/QCD_04132022_2018_UL_nortxcuts_Summer20UL18/QCD_Pt_1000to1400_TuneCP5_13TeV_pythia8',\n",
    "        '/home/snabili/hadoop/UltraLegacy_npz/QCD_04182022_2018_UL_nortxcuts_higherbins_Summer20UL18/QCD_Pt_1400to1800_TuneCP5_13TeV_pythia8',\n",
    "        '/home/snabili/hadoop/UltraLegacy_npz/QCD_04182022_2018_UL_nortxcuts_higherbins_Summer20UL18/QCD_Pt_1800to2400_TuneCP5_13TeV_pythia8',\n",
    "        '/home/snabili/hadoop/UltraLegacy_npz/QCD_04182022_2018_UL_nortxcuts_higherbins_Summer20UL18/QCD_Pt_2400to3200_TuneCP5_13TeV_pythia8',\n",
    "        '/home/snabili/hadoop/UltraLegacy_npz/QCD_04182022_2018_UL_nortxcuts_higherbins_Summer20UL18/QCD_Pt_3200toInf_TuneCP5_13TeV_pythia8',\n",
    "        ]\n",
    "\n",
    "qcd_weights_prehem = qcd_crossections*qcd_sel_eff * 14.027 \n",
    "qcd_weights_posthem = qcd_crossections*qcd_sel_eff * 38.73 \n",
    "qcd_prehem = combine_dirs_with_weights(qcd_dirs, qcd_weights_prehem)\n",
    "qcd_posthem = combine_dirs_with_weights(qcd_dirs, qcd_weights_posthem)"
   ]
  },
  {
   "cell_type": "code",
   "execution_count": 9,
   "id": "7a835bcf",
   "metadata": {},
   "outputs": [
    {
     "name": "stdout",
     "output_type": "stream",
     "text": [
      "Counts:\n",
      "0 :     1622 available, using 1621\n",
      "1 :    40323 available, using 9294\n",
      "2 :   581074 available, using 63898\n",
      "3 :  2059506 available, using 60102\n",
      "4 :   649032 available, using 1324\n",
      "Counts:\n",
      "0 :     1622 available, using 1622\n",
      "1 :    40323 available, using 9294\n",
      "2 :   581074 available, using 63898\n",
      "3 :  2059506 available, using 60102\n",
      "4 :   649032 available, using 1324\n"
     ]
    }
   ],
   "source": [
    "wjet_sel_eff = np.array([0.00022, 0.0052, 0.0795, 0.318, 0.3094])\n",
    "wjet_crossections = np.array([45.25*1.139, 10.97*1.139, 4.933*1.139, 1.16*1.139, 0.02627*1.139])\n",
    "wjet_dirs = [\n",
    "    \n",
    "    '/home/snabili/hadoop/UltraLegacy_npz/WJets_04142022_CR_Summer20UL18/WJetsToLNu_HT-400To600_TuneCP5_13TeV-madgraphMLM-pythia8',\n",
    "    '/home/snabili/hadoop/UltraLegacy_npz/WJets_04142022_CR_Summer20UL18/WJetsToLNu_HT-600To800_TuneCP5_13TeV-madgraphMLM-pythia8',\n",
    "    '/home/snabili/hadoop/UltraLegacy_npz/WJets_04142022_CR_Summer20UL18/WJetsToLNu_HT-800To1200_TuneCP5_13TeV-madgraphMLM-pythia8',\n",
    "    '/home/snabili/hadoop/UltraLegacy_npz/WJets_04142022_CR_Summer20UL18/WJetsToLNu_HT-1200To2500_TuneCP5_13TeV-madgraphMLM-pythia8',\n",
    "    '/home/snabili/hadoop/UltraLegacy_npz/WJets_04142022_CR_Summer20UL18/WJetsToLNu_HT-2500ToInf_TuneCP5_13TeV-madgraphMLM-pythia8'\n",
    "    ]\n",
    "\n",
    "\n",
    "wjet_weights_prehem = wjet_crossections * wjet_sel_eff * 14.027 \n",
    "wjet_weights_posthem = wjet_crossections * wjet_sel_eff * 38.73 \n",
    "wjet_prehem = combine_dirs_with_weights(wjet_dirs, wjet_weights_prehem)\n",
    "wjet_posthem = combine_dirs_with_weights(wjet_dirs, wjet_weights_posthem)"
   ]
  },
  {
   "cell_type": "code",
   "execution_count": 5,
   "id": "acb4c55c",
   "metadata": {
    "scrolled": false
   },
   "outputs": [
    {
     "name": "stdout",
     "output_type": "stream",
     "text": [
      "Counts:\n",
      "0 :     1198 available, using 904\n",
      "1 :    67592 available, using 40266\n",
      "2 :   437833 available, using 337442\n",
      "3 :   294915 available, using 294915\n",
      "4 :   210427 available, using 6688\n",
      "Counts:\n",
      "0 :     1198 available, using 904\n",
      "1 :    67592 available, using 40266\n",
      "2 :   437833 available, using 337442\n",
      "3 :   294915 available, using 294915\n",
      "4 :   210427 available, using 6688\n"
     ]
    }
   ],
   "source": [
    "zjet_sel_eff = np.array([0.00006, 0.011, 0.206, 0.772, 0.784])\n",
    "zjet_crossections = np.array([9.921*1.1347, 2.409*1.1347, 1.078*1.1347, 0.2514*1.1347, 0.005614*1.1347])\n",
    "zjet_dirs = [\n",
    "    \n",
    "    '/home/snabili/hadoop/UltraLegacy_npz/ZJets_04142022_CR_Summer20UL18/ZJetsToNuNu_HT-400To600_TuneCP5_13TeV-madgraphMLM-pythia8',\n",
    "    '/home/snabili/hadoop/UltraLegacy_npz/ZJets_04142022_CR_Summer20UL18/ZJetsToNuNu_HT-600To800_TuneCP5_13TeV-madgraphMLM-pythia8',\n",
    "    '/home/snabili/hadoop/UltraLegacy_npz/ZJets_04142022_CR_Summer20UL18/ZJetsToNuNu_HT-800To1200_TuneCP5_13TeV-madgraphMLM-pythia8',\n",
    "    '/home/snabili/hadoop/UltraLegacy_npz/ZJets_04142022_CR_Summer20UL18/ZJetsToNuNu_HT-1200To2500_TuneCP5_13TeV-madgraphMLM-pythia8',\n",
    "    '/home/snabili/hadoop/UltraLegacy_npz/ZJets_04142022_CR_Summer20UL18/ZJetsToNuNu_HT-2500ToInf_TuneCP5_13TeV-madgraphMLM-pythia8'\n",
    "    ]\n",
    "\n",
    "zjet_weights_prehem = zjet_crossections * zjet_sel_eff * 14.027 \n",
    "zjet_weights_posthem = zjet_crossections * zjet_sel_eff* 38.73 \n",
    "zjet_prehem = combine_dirs_with_weights(zjet_dirs, zjet_weights_prehem)\n",
    "zjet_posthem = combine_dirs_with_weights(zjet_dirs, zjet_weights_posthem)"
   ]
  },
  {
   "cell_type": "code",
   "execution_count": null,
   "id": "851f4c87",
   "metadata": {},
   "outputs": [],
   "source": [
    "#val_of_bins_x1, edges_of_bins_x1, patches_x1 = ax1.hist(data_prehem['metphi'],bins=40, label='data', histtype='step', linewidth=2)\n",
    "val_of_bins_x1, edges_of_bins_x1, patches_x1 = ax1.hist(data_posthem['metphi'],bins=40, label='data', histtype='step', linewidth=2)"
   ]
  },
  {
   "cell_type": "code",
   "execution_count": null,
   "id": "766464d8",
   "metadata": {},
   "outputs": [],
   "source": [
    "fig, (ax1, ax2) = plt.subplots(2, 1, gridspec_kw={'height_ratios': [5, 1]})\n",
    "\n",
    "#val_of_bins_x2, edges_of_bins_x2, patches_x2 = ax1.hist(qcd_prehem['metphi'], weights=np.ones_like(qcd_prehem['metphi']) * len(data_prehem['metphi'])/len(qcd_prehem['metphi']), bins=40, label='qcd')\n",
    "val_of_bins_x2, edges_of_bins_x2, patches_x2 = ax1.hist(qcd_posthem['metphi'], weights=np.ones_like(qcd_posthem['metphi']) * len(data_posthem['metphi'])/len(qcd_posthem['metphi']), bins=40, label='qcd')\n",
    "\n",
    "\n",
    "ratio = np.divide(val_of_bins_x1,\n",
    "                  val_of_bins_x2,\n",
    "                  where=(val_of_bins_x2 != 0))\n",
    "\n",
    "bin_centres = (edges_of_bins_x1[:-1] + edges_of_bins_x1[1:]) / 2\n",
    "y_error = np.sqrt(val_of_bins_x1.size)\n",
    "ax1.errorbar(x=bin_centres, y=val_of_bins_x1, yerr=y_error, fmt='.', capsize=1, label='data')\n",
    "ax1.legend()\n",
    "ax1.grid('True')\n",
    "#ax1.set_title('Data PreHEM, QCD MC: $\\phi_{MET}$')\n",
    "ax1.set_title('Data PostHEM, QCD MC: $\\phi_{MET}$')\n",
    "ax1.set_yscale('log')\n",
    "\n",
    "edges = edges_of_bins_x1[:len(edges_of_bins_x1)-1]\n",
    "ax2.plot(edges,ratio,'.')\n",
    "ax2.set_ylim(0,2.5)\n",
    "ax2.grid('True')\n",
    "ax2.set_xlabel('$\\phi_{MET}$')\n",
    "ax2.set_ylabel('Data/MC')\n",
    "ax2.set_ylim(0,2)\n",
    "#fig.savefig('png_april25/PostHEM_METPhi.png')\n",
    "fig.savefig('png_april25/PreHEM_METPhi.png')"
   ]
  },
  {
   "cell_type": "code",
   "execution_count": null,
   "id": "57eec289",
   "metadata": {},
   "outputs": [],
   "source": [
    "fig = plt.figure(figsize=(8, 16))\n",
    "ax1 = fig.add_subplot(4,1,1)\n",
    "ax2 = fig.add_subplot(4,1,2)\n",
    "ax3 = fig.add_subplot(4,1,3)\n",
    "ax4 = fig.add_subplot(4,1,4)\n",
    "\n",
    "'''\n",
    "val_met_post, edges_met_post, patches_met_post = ax1.hist(data_prehem['met'], bins=50, label='data')\n",
    "val_mt_post, edges_mt_post, patches_mt_post = ax2.hist(data_prehem['mt'], bins=50, label='data')\n",
    "val_pt_post, edges_pt_post, patches_pt_post = ax3.hist(data_prehem['pt'], bins=50, label='data')\n",
    "val_rt_post, edges_rt_post, patches_rt_post = ax4.hist(data_prehem['rt'], bins=50, label='data')\n",
    "'''\n",
    "\n",
    "val_met_post, edges_met_post, patches_met_post = ax1.hist(data_posthem['met'], bins=50, label='data')\n",
    "val_mt_post, edges_mt_post, patches_mt_post = ax2.hist(data_posthem['mt'], bins=50, label='data')\n",
    "val_pt_post, edges_pt_post, patches_pt_post = ax3.hist(data_posthem['pt'], bins=50, label='data')\n",
    "val_rt_post, edges_rt_post, patches_rt_post = ax4.hist(data_posthem['rt'], bins=50, label='data')"
   ]
  },
  {
   "cell_type": "code",
   "execution_count": null,
   "id": "dfa246b1",
   "metadata": {},
   "outputs": [],
   "source": [
    "'''\n",
    "qmet = qcd_prehem['met']; wmet = wjet_prehem['met']; zmet = zjet_prehem['met']\n",
    "qmt = qcd_prehem['mt']; wmt = wjet_prehem['mt']; zmt = zjet_prehem['mt']\n",
    "qpt = qcd_prehem['pt']; wpt = wjet_prehem['pt']; zpt = zjet_prehem['pt']\n",
    "qrt = qcd_prehem['rt']; wrt = wjet_prehem['rt']; zrt = zjet_prehem['rt']\n",
    "\n",
    "'''\n",
    "\n",
    "qmet = qcd_posthem['met']; wmet = wjet_posthem['met']; zmet = zjet_posthem['met']\n",
    "qmt = qcd_posthem['mt']; wmt = wjet_posthem['mt']; zmt = zjet_posthem['mt']\n",
    "qpt = qcd_posthem['pt']; wpt = wjet_posthem['pt']; zpt = zjet_posthem['pt']\n",
    "qrt = qcd_posthem['rt']; wrt = wjet_posthem['rt']; zrt = zjet_posthem['rt']\n",
    "\n",
    "fig = plt.figure(figsize=(8, 16))\n",
    "ax1 = fig.add_subplot(4,1,1)\n",
    "ax1.hist([qmet,wmet,zmet], bins=50, stacked=True, label = ['MJets','WJets','ZJets'])\n",
    "bin_centres_metpost = (edges_met_post[:-1] + edges_met_post[1:]) / 2\n",
    "y_error_metpost = np.sqrt(val_met_post.size)\n",
    "ax1.errorbar(x=bin_centres_metpost, y=val_met_post, yerr=y_error_metpost, fmt='.', capsize=1, label='data')\n",
    "ax1.legend()\n",
    "ax1.set_yscale('log')\n",
    "ax1.grid(True)\n",
    "ax1.legend()\n",
    "ax1.set_xlim(0,3000)\n",
    "ax1.set_title('Data PostHEM, MJets, WJets, ZJets Stacked Plots')\n",
    "#ax1.set_title('Data PreHEM, MJets, WJets, ZJets Stacked Plots')\n",
    "ax1.set_xlabel('MET (GeV)')\n",
    "\n",
    "ax2 = fig.add_subplot(4,1,2)\n",
    "ax2.hist([qmt,wmt,zmt], bins=50, stacked=True, label = ['MJets','WJets','ZJets'])\n",
    "bin_centres_mtpost = (edges_mt_post[:-1] + edges_mt_post[1:]) / 2\n",
    "y_error_mtpost = np.sqrt(val_mt_post.size)\n",
    "ax2.errorbar(x=bin_centres_mtpost, y=val_mt_post, yerr=y_error_mtpost, fmt='.', capsize=1, label='data')\n",
    "ax2.legend()\n",
    "ax2.set_yscale('log')\n",
    "ax2.grid(True)\n",
    "ax2.legend()\n",
    "ax2.set_xlim(0,3000)\n",
    "ax2.set_xlabel('$M_{T,2LJ}$ (GeV)')\n",
    "\n",
    "ax3 = fig.add_subplot(4,1,3)\n",
    "ax3.hist([qpt,wpt,zpt], bins=50, stacked=True, label = ['MJets','WJets','ZJets'])\n",
    "bin_centres_ptpost = (edges_pt_post[:-1] + edges_pt_post[1:]) / 2\n",
    "y_error_ptpost = np.sqrt(val_pt_post.size)\n",
    "ax3.errorbar(x=bin_centres_ptpost, y=val_pt_post, yerr=y_error_ptpost, fmt='.', capsize=1, label='data')\n",
    "ax3.legend()\n",
    "ax3.set_yscale('log')\n",
    "ax3.grid(True)\n",
    "ax3.set_xlim(0,3500)\n",
    "ax3.legend()\n",
    "ax3.set_xlabel('$p_{T,2LJ}$ (GeV)')\n",
    "\n",
    "\n",
    "ax4 = fig.add_subplot(4,1,4)\n",
    "ax4.hist([qrt,wrt,zrt], bins=50, stacked=True, label = ['MJets','WJets','ZJets'])\n",
    "bin_centres_rtpost = (edges_rt_post[:-1] + edges_rt_post[1:]) / 2\n",
    "y_error_rtpost = np.sqrt(val_rt_post.size)\n",
    "ax4.errorbar(x=bin_centres_rtpost, y=val_rt_post, yerr=y_error_rtpost, fmt='.', capsize=1, label='data')\n",
    "ax4.legend()\n",
    "ax4.set_yscale('log')\n",
    "ax4.grid(True)\n",
    "ax4.legend()\n",
    "ax4.set_xlim(1,5)\n",
    "ax4.set_xlabel('$R_{T,2LJ}$ (GeV)')\n",
    "fig.savefig('png_april25/data_postHEM_dots.png')\n",
    "#fig.savefig('png_april25/data_preHEM_dots.png')"
   ]
  },
  {
   "cell_type": "code",
   "execution_count": null,
   "id": "2ac6e103",
   "metadata": {},
   "outputs": [],
   "source": []
  },
  {
   "cell_type": "code",
   "execution_count": null,
   "id": "60eb435c",
   "metadata": {},
   "outputs": [],
   "source": []
  },
  {
   "cell_type": "code",
   "execution_count": null,
   "id": "22cea67e",
   "metadata": {},
   "outputs": [],
   "source": []
  },
  {
   "cell_type": "code",
   "execution_count": 11,
   "id": "e59bac3f",
   "metadata": {},
   "outputs": [
    {
     "ename": "NameError",
     "evalue": "name 'qjet_posthem' is not defined",
     "output_type": "error",
     "traceback": [
      "\u001b[0;31m---------------------------------------------------------------------------\u001b[0m",
      "\u001b[0;31mNameError\u001b[0m                                 Traceback (most recent call last)",
      "\u001b[0;32m/tmp/ipykernel_1426152/476270648.py\u001b[0m in \u001b[0;36m<module>\u001b[0;34m\u001b[0m\n\u001b[0;32m----> 1\u001b[0;31m \u001b[0mqmet\u001b[0m \u001b[0;34m=\u001b[0m \u001b[0mqjet_posthem\u001b[0m\u001b[0;34m[\u001b[0m\u001b[0;34m'met'\u001b[0m\u001b[0;34m]\u001b[0m\u001b[0;34m\u001b[0m\u001b[0;34m\u001b[0m\u001b[0m\n\u001b[0m\u001b[1;32m      2\u001b[0m \u001b[0mwmet\u001b[0m \u001b[0;34m=\u001b[0m \u001b[0mwjet_posthem\u001b[0m\u001b[0;34m[\u001b[0m\u001b[0;34m'met'\u001b[0m\u001b[0;34m]\u001b[0m\u001b[0;34m\u001b[0m\u001b[0;34m\u001b[0m\u001b[0m\n\u001b[1;32m      3\u001b[0m \u001b[0mzmet\u001b[0m \u001b[0;34m=\u001b[0m \u001b[0mzjet_posthem\u001b[0m\u001b[0;34m[\u001b[0m\u001b[0;34m'met'\u001b[0m\u001b[0;34m]\u001b[0m\u001b[0;34m\u001b[0m\u001b[0;34m\u001b[0m\u001b[0m\n\u001b[1;32m      4\u001b[0m \u001b[0mplt\u001b[0m\u001b[0;34m.\u001b[0m\u001b[0mhist\u001b[0m\u001b[0;34m(\u001b[0m\u001b[0mzmet\u001b[0m\u001b[0;34m,\u001b[0m \u001b[0mbins\u001b[0m\u001b[0;34m=\u001b[0m\u001b[0;36m50\u001b[0m\u001b[0;34m,\u001b[0m \u001b[0mstacked\u001b[0m\u001b[0;34m=\u001b[0m\u001b[0;32mTrue\u001b[0m\u001b[0;34m,\u001b[0m \u001b[0mlabel\u001b[0m \u001b[0;34m=\u001b[0m \u001b[0;34m'ZJets'\u001b[0m\u001b[0;34m)\u001b[0m\u001b[0;34m\u001b[0m\u001b[0;34m\u001b[0m\u001b[0m\n\u001b[1;32m      5\u001b[0m \u001b[0mplt\u001b[0m\u001b[0;34m.\u001b[0m\u001b[0mhist\u001b[0m\u001b[0;34m(\u001b[0m\u001b[0mwmet\u001b[0m\u001b[0;34m,\u001b[0m \u001b[0mbins\u001b[0m\u001b[0;34m=\u001b[0m\u001b[0;36m50\u001b[0m\u001b[0;34m,\u001b[0m \u001b[0mstacked\u001b[0m\u001b[0;34m=\u001b[0m\u001b[0;32mTrue\u001b[0m\u001b[0;34m,\u001b[0m \u001b[0mlabel\u001b[0m \u001b[0;34m=\u001b[0m \u001b[0;34m'WJets'\u001b[0m\u001b[0;34m)\u001b[0m\u001b[0;34m\u001b[0m\u001b[0;34m\u001b[0m\u001b[0m\n",
      "\u001b[0;31mNameError\u001b[0m: name 'qjet_posthem' is not defined"
     ]
    }
   ],
   "source": [
    "qmet = qjet_posthem['met']\n",
    "wmet = wjet_posthem['met']\n",
    "zmet = zjet_posthem['met']\n",
    "plt.hist(zmet, bins=50, stacked=True, label = 'ZJets')\n",
    "plt.hist(wmet, bins=50, stacked=True, label = 'WJets')\n",
    "plt.hist(qmet, bins=50, stacked=True, label = 'MJets')"
   ]
  },
  {
   "cell_type": "code",
   "execution_count": null,
   "id": "d90e5a87",
   "metadata": {},
   "outputs": [],
   "source": [
    "plt.hist(zjet_posthem['mt'], bins=50, stacked=True, label = 'ZJets')\n",
    "plt.hist(wjet_posthem['mt'], bins=50, stacked=True, label = 'WJets')\n",
    "plt.hist(qjet_posthem['mt'], bins=50, stacked=True, label = 'MJets')"
   ]
  },
  {
   "cell_type": "code",
   "execution_count": 4,
   "id": "9833b4a7",
   "metadata": {},
   "outputs": [
    {
     "name": "stdout",
     "output_type": "stream",
     "text": [
      "Counts:\n",
      "0 :     1198 available, using 1198\n",
      "Counts:\n",
      "0 :     1198 available, using 1198\n"
     ]
    }
   ],
   "source": [
    "zjet_sel_eff = np.array([0.00006])\n",
    "zjet_crossections = np.array([9.921*1.1347])\n",
    "zjet_dirs = [\n",
    "    \n",
    "    '/home/snabili/hadoop/UltraLegacy_npz/ZJets_04142022_CR_Summer20UL18/ZJetsToNuNu_HT-400To600_TuneCP5_13TeV-madgraphMLM-pythia8',\n",
    "    ]\n",
    "\n",
    "z1_weights_prehem = zjet_crossections * zjet_sel_eff * 14.027 \n",
    "z1_weights_posthem = zjet_crossections * zjet_sel_eff* 38.73 \n",
    "z1_prehem = combine_dirs_with_weights(zjet_dirs, z1_weights_prehem)\n",
    "z1_posthem = combine_dirs_with_weights(zjet_dirs, z1_weights_posthem)"
   ]
  },
  {
   "cell_type": "code",
   "execution_count": 5,
   "id": "6e2a4ab5",
   "metadata": {},
   "outputs": [
    {
     "data": {
      "text/plain": [
       "(array([  4.,  17.,  51.,  97., 110., 127., 111., 111.,  90.,  72.,  81.,\n",
       "         59.,  56.,  38.,  37.,  31.,  20.,  15.,  13.,   8.,  10.,   9.,\n",
       "          6.,   6.,   3.,   2.,   4.,   3.,   2.,   0.,   0.,   0.,   0.,\n",
       "          1.,   0.,   2.,   0.,   0.,   0.,   0.,   0.,   0.,   0.,   0.,\n",
       "          0.,   0.,   0.,   0.,   0.,   2.]),\n",
       " array([  43.07099657,   67.69529415,   92.31959174,  116.94388932,\n",
       "         141.56818691,  166.19248449,  190.81678207,  215.44107966,\n",
       "         240.06537724,  264.68967482,  289.31397241,  313.93826999,\n",
       "         338.56256757,  363.18686516,  387.81116274,  412.43546033,\n",
       "         437.05975791,  461.68405549,  486.30835308,  510.93265066,\n",
       "         535.55694824,  560.18124583,  584.80554341,  609.42984099,\n",
       "         634.05413858,  658.67843616,  683.30273374,  707.92703133,\n",
       "         732.55132891,  757.1756265 ,  781.79992408,  806.42422166,\n",
       "         831.04851925,  855.67281683,  880.29711441,  904.921412  ,\n",
       "         929.54570958,  954.17000716,  978.79430475, 1003.41860233,\n",
       "        1028.04289992, 1052.6671975 , 1077.29149508, 1101.91579267,\n",
       "        1126.54009025, 1151.16438783, 1175.78868542, 1200.412983  ,\n",
       "        1225.03728058, 1249.66157817, 1274.28587575]),\n",
       " <BarContainer object of 50 artists>)"
      ]
     },
     "execution_count": 5,
     "metadata": {},
     "output_type": "execute_result"
    },
    {
     "data": {
      "image/png": "[encoded data removed]",
      "text/plain": [
       "<Figure size 432x288 with 1 Axes>"
      ]
     },
     "metadata": {
      "needs_background": "light"
     },
     "output_type": "display_data"
    }
   ],
   "source": [
    "plt.hist(z1_posthem['mt'], bins=50, stacked=True, label = 'ZJets')"
   ]
  },
  {
   "cell_type": "code",
   "execution_count": null,
   "id": "7bb2d250",
   "metadata": {},
   "outputs": [],
   "source": []
  },
  {
   "cell_type": "code",
   "execution_count": null,
   "id": "9095b3c4",
   "metadata": {},
   "outputs": [],
   "source": []
  },
  {
   "cell_type": "code",
   "execution_count": null,
   "id": "ee71b469",
   "metadata": {},
   "outputs": [],
   "source": []
  },
  {
   "cell_type": "code",
   "execution_count": 18,
   "id": "07099a27",
   "metadata": {},
   "outputs": [
    {
     "data": {
      "image/png": "[encoded data removed]",
      "text/plain": [
       "<Figure size 432x288 with 1 Axes>"
      ]
     },
     "metadata": {
      "needs_background": "light"
     },
     "output_type": "display_data"
    }
   ],
   "source": [
    "#val_met_data, edges_met_data, patches_met_data = plt.hist(data_prehem['met'],bins=100, label='data', histtype='step', linewidth=2)\n",
    "val_met_data, edges_met_data, patches_met_data = plt.hist(data_posthem['met'],bins=200, label='data', histtype='step', linewidth=2)"
   ]
  },
  {
   "cell_type": "code",
   "execution_count": 19,
   "id": "2d1161dc",
   "metadata": {},
   "outputs": [
    {
     "data": {
      "image/png": "[encoded data removed]",
      "text/plain": [
       "<Figure size 432x288 with 2 Axes>"
      ]
     },
     "metadata": {
      "needs_background": "light"
     },
     "output_type": "display_data"
    }
   ],
   "source": [
    "fig, (ax1, ax2) = plt.subplots(2, 1, gridspec_kw={'height_ratios': [5, 1]})\n",
    "\n",
    "#val_met_qcd, edges_met_qcd, patches_met_qcd = ax1.hist(qcd_prehem['met'], weights=np.ones_like(qcd_prehem['met']) * len(data_prehem['met'])/len(qcd_prehem['met']), bins=100, label='qcd')\n",
    "val_met_qcd, edges_met_qcd, patches_met_qcd = ax1.hist(qcd_posthem['met'], weights=np.ones_like(qcd_posthem['met']) * len(data_posthem['met'])/len(qcd_posthem['met']), bins=200, label='qcd')\n",
    "\n",
    "ratio_met = np.divide(val_met_data,\n",
    "                  val_met_qcd,\n",
    "                  where=(val_met_qcd != 0))\n",
    "\n",
    "\n",
    "bin_centres_met = (edges_met_data[:-1] + edges_met_data[1:]) / 2\n",
    "y_error_met = np.sqrt(val_met_data.size)\n",
    "ax1.errorbar(x=bin_centres_met, y=val_met_data, yerr=y_error_met, fmt='.', capsize=1, label='data')\n",
    "\n",
    "ax1.legend()\n",
    "ax1.set_xlim(0,1000)\n",
    "ax1.grid('True')\n",
    "#ax1.set_title('Data PreHEM, QCD MC: MET')\n",
    "ax1.set_title('Data PostHEM, QCD MC: MET')\n",
    "ax1.set_yscale('log')\n",
    "\n",
    "\n",
    "edges_met = edges_met_data[:len(edges_met_data)-1]\n",
    "ax2.plot(edges_met,ratio_met,'.')\n",
    "ax2.set_ylim(0,5)\n",
    "ax2.set_xlim(0,1000)\n",
    "ax2.grid('True')\n",
    "ax2.set_xlabel('MET (GeV)')\n",
    "ax2.set_ylabel('Data/MC')\n",
    "#fig.savefig('png_april25/MET_prehem.png')\n",
    "fig.savefig('png_april25/MET_posthem.png')"
   ]
  },
  {
   "cell_type": "code",
   "execution_count": 65,
   "id": "0a8fb7ea",
   "metadata": {},
   "outputs": [
    {
     "data": {
      "image/png": "[encoded data removed]",
      "text/plain": [
       "<Figure size 432x288 with 1 Axes>"
      ]
     },
     "metadata": {
      "needs_background": "light"
     },
     "output_type": "display_data"
    }
   ],
   "source": [
    "#val_mt_data, edges_mt_data, patches_mt_data = plt.hist(data_prehem['mt'],bins=50, label='data', histtype='step', linewidth=2)\n",
    "val_mt_data, edges_mt_data, patches_mt_data = plt.hist(data_posthem['mt'],bins=50, label='data', histtype='step', linewidth=2)"
   ]
  },
  {
   "cell_type": "code",
   "execution_count": 66,
   "id": "b791df34",
   "metadata": {},
   "outputs": [
    {
     "data": {
      "image/png": "[encoded data removed]",
      "text/plain": [
       "<Figure size 432x288 with 2 Axes>"
      ]
     },
     "metadata": {
      "needs_background": "light"
     },
     "output_type": "display_data"
    }
   ],
   "source": [
    "fig, (ax1, ax2) = plt.subplots(2, 1, gridspec_kw={'height_ratios': [5, 1]})\n",
    "\n",
    "#val_mt_qcd, edges_mt_qcd, patches_mt_qcd = ax1.hist(qcd_prehem['mt'], weights=np.ones_like(qcd_prehem['mt']) * len(data_prehem['mt'])/len(qcd_prehem['mt']), bins=50, label='qcd')\n",
    "val_mt_qcd, edges_mt_qcd, patches_mt_qcd = ax1.hist(qcd_posthem['mt'], weights=np.ones_like(qcd_posthem['mt']) * len(data_posthem['mt'])/len(qcd_posthem['mt']), bins=50, label='qcd')\n",
    "ratio_mt = np.divide(val_mt_data,\n",
    "                  val_mt_qcd,\n",
    "                  where=(val_mt_qcd != 0))\n",
    "\n",
    "\n",
    "bin_centres_mt = (edges_mt_data[:-1] + edges_mt_data[1:]) / 2\n",
    "y_error_mt = np.sqrt(val_mt_data.size)\n",
    "ax1.errorbar(x=bin_centres_mt, y=val_mt_data, yerr=y_error_mt, fmt='.', capsize=1, label='data')\n",
    "\n",
    "ax1.legend()\n",
    "ax1.set_xlim(0,1000)\n",
    "ax1.grid('True')\n",
    "#ax1.set_title('Data PreHEM, QCD MC: $M_{T,2LJ}$')\n",
    "ax1.set_title('Data PostHEM, QCD MC: $M_{T,2LJ}$')\n",
    "ax1.set_yscale('log')\n",
    "\n",
    "\n",
    "edges_mt = edges_mt_data[:len(edges_mt_data)-1]\n",
    "ax2.plot(edges_mt,ratio_mt,'.')\n",
    "ax2.set_ylim(0,5)\n",
    "ax2.set_xlim(0,1000)\n",
    "ax2.grid('True')\n",
    "ax2.set_xlabel('$M_{T,2LJ}$ (GeV)')\n",
    "ax2.set_ylabel('Data/MC')\n",
    "#fig.savefig('png_april25/mt_prehem.png')\n",
    "fig.savefig('png_april25/mt_posthem.png')"
   ]
  },
  {
   "cell_type": "code",
   "execution_count": 69,
   "id": "f223e533",
   "metadata": {},
   "outputs": [
    {
     "data": {
      "image/png": "[encoded data removed]",
      "text/plain": [
       "<Figure size 432x288 with 1 Axes>"
      ]
     },
     "metadata": {
      "needs_background": "light"
     },
     "output_type": "display_data"
    }
   ],
   "source": [
    "val_pt_data, edges_pt_data, patches_pt_data = plt.hist(data_prehem['pt'],bins=50, label='data', histtype='step', linewidth=2)\n",
    "#val_pt_data, edges_pt_data, patches_pt_data = plt.hist(data_posthem['pt'],bins=50, label='data', histtype='step', linewidth=2)"
   ]
  },
  {
   "cell_type": "code",
   "execution_count": 70,
   "id": "618c57c5",
   "metadata": {},
   "outputs": [
    {
     "data": {
      "image/png": "[encoded data removed]",
      "text/plain": [
       "<Figure size 432x288 with 2 Axes>"
      ]
     },
     "metadata": {
      "needs_background": "light"
     },
     "output_type": "display_data"
    }
   ],
   "source": [
    "fig, (ax1, ax2) = plt.subplots(2, 1, gridspec_kw={'height_ratios': [5, 1]})\n",
    "\n",
    "val_pt_qcd, edges_pt_qcd, patches_pt_qcd = ax1.hist(qcd_prehem['pt'], weights=np.ones_like(qcd_prehem['pt']) * len(data_prehem['pt'])/len(qcd_prehem['pt']), bins=50, label='qcd')\n",
    "#val_pt_qcd, edges_pt_qcd, patches_pt_qcd = ax1.hist(qcd_posthem['pt'], weights=np.ones_like(qcd_posthem['pt']) * len(data_posthem['pt'])/len(qcd_posthem['pt']), bins=50, label='qcd')\n",
    "ratio_pt = np.divide(val_pt_data,\n",
    "                  val_pt_qcd,\n",
    "                  where=(val_pt_qcd != 0))\n",
    "\n",
    "\n",
    "bin_centres_pt = (edges_pt_data[:-1] + edges_pt_data[1:]) / 2\n",
    "y_error_pt = np.sqrt(val_pt_data.size)\n",
    "ax1.errorbar(x=bin_centres_pt, y=val_pt_data, yerr=y_error_pt, fmt='.', capsize=1, label='data')\n",
    "\n",
    "ax1.legend()\n",
    "ax1.set_xlim(0,3000)\n",
    "ax1.grid('True')\n",
    "ax1.set_title('Data PreHEM, QCD MC: $p_{T,2LJ}$')\n",
    "#ax1.set_title('Data PostHEM, QCD MC: $p_{T,2LJ}$')\n",
    "ax1.set_yscale('log')\n",
    "\n",
    "\n",
    "edges_pt = edges_pt_data[:len(edges_pt_data)-1]\n",
    "ax2.plot(edges_pt,ratio_pt,'.')\n",
    "ax2.set_ylim(0,5)\n",
    "ax2.set_xlim(0,3000)\n",
    "ax2.grid('True')\n",
    "ax2.set_xlabel('$p_{T,2LJ}$ (GeV)')\n",
    "ax2.set_ylabel('Data/MC')\n",
    "fig.savefig('png_april25/pt_prehem.png')\n",
    "#fig.savefig('png_april25/pt_posthem.png')"
   ]
  },
  {
   "cell_type": "code",
   "execution_count": 20,
   "id": "b2482f5f",
   "metadata": {},
   "outputs": [
    {
     "data": {
      "image/png": "[encoded data removed]",
      "text/plain": [
       "<Figure size 432x288 with 1 Axes>"
      ]
     },
     "metadata": {
      "needs_background": "light"
     },
     "output_type": "display_data"
    }
   ],
   "source": [
    "#val_eta_data, edges_eta_data, patches_eta_data = plt.hist(data_prehem['eta'],bins=50, label='data', histtype='step', linewidth=2)\n",
    "val_eta_data, edges_eta_data, patches_eta_data = plt.hist(data_posthem['eta'],bins=50, label='data', histtype='step', linewidth=2)"
   ]
  },
  {
   "cell_type": "code",
   "execution_count": 23,
   "id": "780fc698",
   "metadata": {},
   "outputs": [
    {
     "data": {
      "image/png": "[encoded data removed]",
      "text/plain": [
       "<Figure size 432x288 with 2 Axes>"
      ]
     },
     "metadata": {
      "needs_background": "light"
     },
     "output_type": "display_data"
    }
   ],
   "source": [
    "fig, (ax1, ax2) = plt.subplots(2, 1, gridspec_kw={'height_ratios': [5, 1]})\n",
    "\n",
    "#val_eta_qcd, edges_eta_qcd, patches_eta_qcd = ax1.hist(qcd_prehem['eta'], weights=np.ones_like(qcd_prehem['eta']) * len(data_prehem['eta'])/len(qcd_prehem['eta']), bins=50, label='qcd')\n",
    "val_eta_qcd, edges_eta_qcd, patches_eta_qcd = ax1.hist(qcd_posthem['eta'], weights=np.ones_like(qcd_posthem['eta']) * len(data_posthem['eta'])/len(qcd_posthem['eta']),bins=50, label='qcd')\n",
    "ratio_eta = np.divide(val_eta_data,\n",
    "                  val_eta_qcd,\n",
    "                  where=(val_eta_qcd != 0))\n",
    "\n",
    "\n",
    "bin_centres_eta = (edges_eta_data[:-1] + edges_eta_data[1:]) / 2\n",
    "y_error_eta = np.sqrt(val_eta_data.size)\n",
    "ax1.errorbar(x=bin_centres_eta, y=val_eta_data, yerr=y_error_eta, fmt='.', capsize=1, label='data')\n",
    "\n",
    "ax1.legend()\n",
    "#ax1.set_xlim(0,3000)\n",
    "ax1.set_ylim(100000,250000)\n",
    "ax1.grid('True')\n",
    "#ax1.set_title('Data PreHEM, QCD MC: $\\eta_{2LJ}$')\n",
    "ax1.set_title('Data PostHEM, QCD MC: $\\eta_{2LJ}$')\n",
    "ax1.set_yscale('log')\n",
    "\n",
    "\n",
    "edges_eta = edges_eta_data[:len(edges_eta_data)-1]\n",
    "ax2.plot(edges_eta,ratio_eta,'.')\n",
    "#ax2.set_ylim(0,5)\n",
    "#ax2.set_xlim(0,3000)\n",
    "ax2.grid('True')\n",
    "ax2.set_xlabel('$\\eta_{2LJ}$')\n",
    "ax2.set_ylabel('Data/MC')\n",
    "#fig.savefig('png_april25/eta_prehem.png')\n",
    "fig.savefig('png_april25/eta_posthem.png')"
   ]
  },
  {
   "cell_type": "code",
   "execution_count": 24,
   "id": "2b35354e",
   "metadata": {},
   "outputs": [
    {
     "data": {
      "image/png": "[encoded data removed]",
      "text/plain": [
       "<Figure size 432x288 with 1 Axes>"
      ]
     },
     "metadata": {
      "needs_background": "light"
     },
     "output_type": "display_data"
    }
   ],
   "source": [
    "#val_phi_data, edges_phi_data, patches_phi_data = plt.hist(data_prehem['phi'],bins=50, label='data', histtype='step', linewidth=2)\n",
    "val_phi_data, edges_phi_data, patches_phi_data = plt.hist(data_posthem['phi'],bins=50, label='data', histtype='step', linewidth=2)"
   ]
  },
  {
   "cell_type": "code",
   "execution_count": 26,
   "id": "3f2d360f",
   "metadata": {},
   "outputs": [
    {
     "data": {
      "image/png": "[encoded data removed]",
      "text/plain": [
       "<Figure size 432x288 with 2 Axes>"
      ]
     },
     "metadata": {
      "needs_background": "light"
     },
     "output_type": "display_data"
    }
   ],
   "source": [
    "fig, (ax1, ax2) = plt.subplots(2, 1, gridspec_kw={'height_ratios': [5, 1]})\n",
    "\n",
    "#val_phi_qcd, edges_phi_qcd, patches_phi_qcd = ax1.hist(qcd_prehem['phi'], weights=np.ones_like(qcd_prehem['phi']) * len(data_prehem['phi'])/len(qcd_prehem['phi']), bins=50, label='qcd')\n",
    "val_phi_qcd, edges_phi_qcd, patches_phi_qcd = ax1.hist(qcd_posthem['phi'], weights=np.ones_like(qcd_posthem['pt']) * len(data_posthem['pt'])/len(qcd_posthem['pt']), bins=50, label='qcd')\n",
    "ratio_phi = np.divide(val_phi_data,\n",
    "                  val_phi_qcd,\n",
    "                  where=(val_phi_qcd != 0))\n",
    "\n",
    "\n",
    "bin_centres_phi = (edges_phi_data[:-1] + edges_phi_data[1:]) / 2\n",
    "y_error_phi = np.sqrt(val_phi_data.size)\n",
    "ax1.errorbar(x=bin_centres_phi, y=val_phi_data, yerr=y_error_phi, fmt='.', capsize=1, label='data')\n",
    "\n",
    "ax1.legend()\n",
    "#ax1.set_xlim(0,3000)\n",
    "#ax1.set_ylim(0,5000000)\n",
    "ax1.grid('True')\n",
    "#ax1.set_title('Data PreHEM, QCD MC: $\\phi_{2LJ}$')\n",
    "ax1.set_title('Data PostHEM, QCD MC: $\\phi_{2LJ}$')\n",
    "ax1.set_yscale('log')\n",
    "\n",
    "\n",
    "edges_phi = edges_phi_data[:len(edges_phi_data)-1]\n",
    "ax2.plot(edges_phi,ratio_phi,'.')\n",
    "ax2.set_ylim(0,2)\n",
    "#ax2.set_xlim(0,3000)\n",
    "ax2.grid('True')\n",
    "ax2.set_xlabel('$\\phi_{2LJ}$')\n",
    "ax2.set_ylabel('Data/MC')\n",
    "#fig.savefig('png_april25/phi_prehem.png')\n",
    "fig.savefig('png_april25/phi_posthem.png')"
   ]
  },
  {
   "cell_type": "code",
   "execution_count": null,
   "id": "fbbf1032",
   "metadata": {},
   "outputs": [],
   "source": []
  }
 ],
 "metadata": {
  "kernelspec": {
   "display_name": "Python 3 (ipykernel)",
   "language": "python",
   "name": "python3"
  },
  "language_info": {
   "codemirror_mode": {
    "name": "ipython",
    "version": 3
   },
   "file_extension": ".py",
   "mimetype": "text/x-python",
   "name": "python",
   "nbconvert_exporter": "python",
   "pygments_lexer": "ipython3",
   "version": "3.9.7"
  }
 },
 "nbformat": 4,
 "nbformat_minor": 5
}
