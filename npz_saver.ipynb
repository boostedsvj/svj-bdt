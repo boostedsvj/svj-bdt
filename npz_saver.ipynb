{
 "cells": [
  {
   "cell_type": "code",
   "execution_count": 1,
   "id": "f0c5e0d6",
   "metadata": {},
   "outputs": [],
   "source": [
    "import numpy as np\n",
    "import bdtcode.histogramming as H\n",
    "import glob"
   ]
  },
  {
   "cell_type": "code",
   "execution_count": 2,
   "id": "717ef7fb",
   "metadata": {},
   "outputs": [],
   "source": [
    "# This notebook is to save Ultra-Legacy npz files --> should be changed into more elegant file\n",
    "# without lepton veto and with RTx < 1.15\n",
    "# should be changed to RTx < 1.005 for control region"
   ]
  },
  {
   "cell_type": "code",
   "execution_count": 3,
   "id": "811dd0f3",
   "metadata": {},
   "outputs": [
    {
     "data": {
      "text/html": [
       "<style>.container { width:100% !important; }</style>"
      ],
      "text/plain": [
       "<IPython.core.display.HTML object>"
      ]
     },
     "metadata": {},
     "output_type": "display_data"
    }
   ],
   "source": [
    "from IPython.core.display import display, HTML\n",
    "display(HTML(\"<style>.container { width:100% !important; }</style>\"))"
   ]
  },
  {
   "cell_type": "code",
   "execution_count": null,
   "id": "14be9f53",
   "metadata": {},
   "outputs": [],
   "source": [
    "qcd0_ul = H.combine_npzs(glob.glob('/home/snabili/hadoop/UltraLegacy_npz/QCD_09282022_2018_UL_nleptons_rtxcut_Summer20UL18/QCD_Pt_300to470_TuneCP5_13TeV_pythia8/*.npz'))\n",
    "qcd1_ul = H.combine_npzs(glob.glob('/home/snabili/hadoop/UltraLegacy_npz/QCD_09282022_2018_UL_nleptons_rtxcut_Summer20UL18/QCD_Pt_470to600_TuneCP5_13TeV_pythia8/*.npz'))\n",
    "qcd2_ul = H.combine_npzs(glob.glob('/home/snabili/hadoop/UltraLegacy_npz/QCD_09282022_2018_UL_nleptons_rtxcut_Summer20UL18/QCD_Pt_600to800_TuneCP5_13TeV_pythia8/*.npz'))\n",
    "qcd3_ul = H.combine_npzs(glob.glob('/home/snabili/hadoop/UltraLegacy_npz/QCD_09282022_2018_UL_nleptons_rtxcut_Summer20UL18/QCD_Pt_800to1000_TuneCP5_13TeV_pythia8/*.npz'))\n",
    "qcd4_ul = H.combine_npzs(glob.glob('/home/snabili/hadoop/UltraLegacy_npz/QCD_09282022_2018_UL_nleptons_rtxcut_Summer20UL18/QCD_Pt_1000to1400_TuneCP5_13TeV_pythia8/*.npz'))\n",
    "qcd5_ul = H.combine_npzs(glob.glob('/home/snabili/hadoop/UltraLegacy_npz/QCD_09282022_2018_UL_nleptons_rtxcut_Summer20UL18/QCD_Pt_1400to1800_TuneCP5_13TeV_pythia8/*.npz'))\n",
    "qcd6_ul = H.combine_npzs(glob.glob('/home/snabili/hadoop/UltraLegacy_npz/QCD_09282022_2018_UL_nleptons_rtxcut_Summer20UL18/QCD_Pt_1800to2400_TuneCP5_13TeV_pythia8/*.npz'))\n",
    "qcd7_ul = H.combine_npzs(glob.glob('/home/snabili/hadoop/UltraLegacy_npz/QCD_09282022_2018_UL_nleptons_rtxcut_Summer20UL18/QCD_Pt_2400to3200_TuneCP5_13TeV_pythia8/*.npz'))\n",
    "qcd8_ul = H.combine_npzs(glob.glob('/home/snabili/hadoop/UltraLegacy_npz/QCD_09282022_2018_UL_nleptons_rtxcut_Summer20UL18/QCD_Pt_3200toInf_TuneCP5_13TeV_pythia8/*.npz'))\n",
    "\n",
    "np.savez('npzfiles/qcd_bin0.npz', **qcd0_ul)\n",
    "np.savez('npzfiles/qcd_bin1.npz', **qcd1_ul)\n",
    "np.savez('npzfiles/qcd_bin2.npz', **qcd2_ul)\n",
    "np.savez('npzfiles/qcd_bin3.npz', **qcd3_ul)\n",
    "np.savez('npzfiles/qcd_bin4.npz', **qcd4_ul)\n",
    "np.savez('npzfiles/qcd_bin5.npz', **qcd5_ul)\n",
    "np.savez('npzfiles/qcd_bin6.npz', **qcd6_ul)\n",
    "np.savez('npzfiles/qcd_bin7.npz', **qcd7_ul)            \n",
    "np.savez('npzfiles/qcd_bin8.npz', **qcd8_ul)"
   ]
  },
  {
   "cell_type": "code",
   "execution_count": null,
   "id": "baa1ae6f",
   "metadata": {},
   "outputs": [],
   "source": [
    "wjet0_ul  = H.combine_npzs(glob.glob('/home/snabili/hadoop/UltraLegacy_npz/WJets_09282022_UL_nleptons_rtxcut_Summer20UL18/WJetsToLNu_HT-400To600_TuneCP5_13TeV-madgraphMLM-pythia8/*.npz'))\n",
    "wjet1_ul  = H.combine_npzs(glob.glob('/home/snabili/hadoop/UltraLegacy_npz/WJets_09282022_UL_nleptons_rtxcut_Summer20UL18/WJetsToLNu_HT-600To800_TuneCP5_13TeV-madgraphMLM-pythia8/*.npz'))\n",
    "wjet2_ul  = H.combine_npzs(glob.glob('/home/snabili/hadoop/UltraLegacy_npz/WJets_09282022_UL_nleptons_rtxcut_Summer20UL18/WJetsToLNu_HT-800To1200_TuneCP5_13TeV-madgraphMLM-pythia8/*.npz'))\n",
    "wjet3_ul  = H.combine_npzs(glob.glob('/home/snabili/hadoop/UltraLegacy_npz/WJets_09282022_UL_nleptons_rtxcut_Summer20UL18/WJetsToLNu_HT-1200To2500_TuneCP5_13TeV-madgraphMLM-pythia8/*.npz'))\n",
    "wjet4_ul  = H.combine_npzs(glob.glob('/home/snabili/hadoop/UltraLegacy_npz/WJets_09282022_UL_nleptons_rtxcut_Summer20UL18/WJetsToLNu_HT-2500ToInf_TuneCP5_13TeV-madgraphMLM-pythia8/*.npz'))\n",
    "\n",
    "np.savez('npzfiles/wjet_bin0.npz', **wjet0_ul)\n",
    "np.savez('npzfiles/wjet_bin1.npz', **wjet1_ul)\n",
    "np.savez('npzfiles/wjet_bin2.npz', **wjet2_ul)\n",
    "np.savez('npzfiles/wjet_bin3.npz', **wjet3_ul)\n",
    "np.savez('npzfiles/wjet_bin4.npz', **wjet4_ul)"
   ]
  },
  {
   "cell_type": "code",
   "execution_count": null,
   "id": "a6c8ec2f",
   "metadata": {},
   "outputs": [],
   "source": [
    "zjet0_ul = H.combine_npzs(glob.glob('/home/snabili/hadoop/UltraLegacy_npz/ZJets_09282022_UL_nleptons_rtxcut_Summer20UL18/ZJetsToNuNu_HT-400To600_TuneCP5_13TeV-madgraphMLM-pythia8/*.npz'))\n",
    "zjet1_ul = H.combine_npzs(glob.glob('/home/snabili/hadoop/UltraLegacy_npz/ZJets_09282022_UL_nleptons_rtxcut_Summer20UL18/ZJetsToNuNu_HT-600To800_TuneCP5_13TeV-madgraphMLM-pythia8/*.npz'))\n",
    "zjet2_ul = H.combine_npzs(glob.glob('/home/snabili/hadoop/UltraLegacy_npz/ZJets_09282022_UL_nleptons_rtxcut_Summer20UL18/ZJetsToNuNu_HT-800To1200_TuneCP5_13TeV-madgraphMLM-pythia8/*.npz'))\n",
    "zjet3_ul = H.combine_npzs(glob.glob('/home/snabili/hadoop/UltraLegacy_npz/ZJets_09282022_UL_nleptons_rtxcut_Summer20UL18/ZJetsToNuNu_HT-1200To2500_TuneCP5_13TeV-madgraphMLM-pythia8/*.npz'))\n",
    "zjet4_ul = H.combine_npzs(glob.glob('/home/snabili/hadoop/UltraLegacy_npz/ZJets_09282022_UL_nleptons_rtxcut_Summer20UL18/ZJetsToNuNu_HT-2500ToInf_TuneCP5_13TeV-madgraphMLM-pythia8/*.npz'))\n",
    "\n",
    "np.savez('npzfiles/zjet_bin0.npz', **zjet0_ul)\n",
    "np.savez('npzfiles/zjet_bin1.npz', **zjet1_ul)\n",
    "np.savez('npzfiles/zjet_bin2.npz', **zjet2_ul)\n",
    "np.savez('npzfiles/zjet_bin3.npz', **zjet3_ul)\n",
    "np.savez('npzfiles/zjet_bin4.npz', **zjet4_ul)"
   ]
  },
  {
   "cell_type": "code",
   "execution_count": null,
   "id": "6937325f",
   "metadata": {},
   "outputs": [],
   "source": [
    "ttjet0_ul = H.combine_npzs(glob.glob('/home/snabili/hadoop/UltraLegacy_npz/TTJets_09282022_UL_nleptons_rtxcut_Summer20UL18/TTJets_DiLept_TuneCP5_13TeV-madgraphMLM-pythia8/*.npz'))\n",
    "ttjet1_ul = H.combine_npzs(glob.glob('/home/snabili/hadoop/UltraLegacy_npz/TTJets_09282022_UL_nleptons_rtxcut_Summer20UL18/TTJets_SingleLeptFromTbar_TuneCP5_13TeV-madgraphMLM-pythia8/*.npz'))\n",
    "ttjet2_ul = H.combine_npzs(glob.glob('/home/snabili/hadoop/UltraLegacy_npz/TTJets_09282022_UL_nleptons_rtxcut_Summer20UL18/TTJets_SingleLeptFromT_TuneCP5_13TeV-madgraphMLM-pythia8/*.npz'))\n",
    "ttjet3_ul = H.combine_npzs(glob.glob('/home/snabili/hadoop/UltraLegacy_npz/TTJets_09282022_UL_nleptons_rtxcut_Summer20UL18/TTJets_TuneCP5_13TeV-madgraphMLM-pythia8/*.npz'))\n",
    "ttjet4_ul = H.combine_npzs(glob.glob('/home/snabili/hadoop/UltraLegacy_npz/TTJets_09282022_UL_nleptons_rtxcut_Summer20UL18/TTJets_HT-600to800_TuneCP5_13TeV-madgraphMLM-pythia8/*.npz'))\n",
    "ttjet5_ul = H.combine_npzs(glob.glob('/home/snabili/hadoop/UltraLegacy_npz/TTJets_09282022_UL_nleptons_rtxcut_Summer20UL18/TTJets_HT-800to1200_TuneCP5_13TeV-madgraphMLM-pythia8/*.npz'))\n",
    "ttjet6_ul = H.combine_npzs(glob.glob('/home/snabili/hadoop/UltraLegacy_npz/TTJets_09282022_UL_nleptons_rtxcut_Summer20UL18/TTJets_HT-1200to2500_TuneCP5_13TeV-madgraphMLM-pythia8/*.npz'))\n",
    "ttjet7_ul = H.combine_npzs(glob.glob('/home/snabili/hadoop/UltraLegacy_npz/TTJets_09282022_UL_nleptons_rtxcut_Summer20UL18/TTJets_HT-2500toInf_TuneCP5_13TeV-madgraphMLM-pythia8/*.npz'))\n",
    "\n",
    "\n",
    "np.savez('npzfiles/ttjet_bin0.npz', **ttjet0_ul)\n",
    "np.savez('npzfiles/ttjet_bin1.npz', **ttjet1_ul)\n",
    "np.savez('npzfiles/ttjet_bin2.npz', **ttjet2_ul)\n",
    "np.savez('npzfiles/ttjet_bin3.npz', **ttjet3_ul)\n",
    "np.savez('npzfiles/ttjet_bin4.npz', **ttjet4_ul)\n",
    "np.savez('npzfiles/ttjet_bin5.npz', **ttjet5_ul)\n",
    "np.savez('npzfiles/ttjet_bin6.npz', **ttjet6_ul)\n",
    "np.savez('npzfiles/ttjet_bin7.npz', **ttjet7_ul)"
   ]
  },
  {
   "cell_type": "code",
   "execution_count": null,
   "id": "d6134769",
   "metadata": {},
   "outputs": [],
   "source": [
    "data_prehemA = H.combine_npzs(glob.glob('/home/snabili/hadoop/UltraLegacy_npz/Data_09282022_nleptons_rtxcut_Summer20UL18_Run2018A-UL2018-v1/JetHT/*.npz'))\n",
    "data_prehemB = H.combine_npzs(glob.glob('/home/snabili/hadoop/UltraLegacy_npz/Data_09282022_nleptons_rtxcut_Summer20UL18_Run2018B_PreHEM_Run2018B-UL2018-v1/JetHT/*.npz'))\n",
    "\n",
    "np.savez('npzfiles/data_prehem_runA.npz', **data_prehemA)\n",
    "np.savez('npzfiles/data_prehem_runB.npz', **data_prehemB)"
   ]
  },
  {
   "cell_type": "code",
   "execution_count": null,
   "id": "c82a712f",
   "metadata": {},
   "outputs": [],
   "source": []
  }
 ],
 "metadata": {
  "kernelspec": {
   "display_name": "Python 3 (ipykernel)",
   "language": "python",
   "name": "python3"
  },
  "language_info": {
   "codemirror_mode": {
    "name": "ipython",
    "version": 3
   },
   "file_extension": ".py",
   "mimetype": "text/x-python",
   "name": "python",
   "nbconvert_exporter": "python",
   "pygments_lexer": "ipython3",
   "version": "3.9.7"
  }
 },
 "nbformat": 4,
 "nbformat_minor": 5
}
