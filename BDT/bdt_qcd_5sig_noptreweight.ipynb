{
 "cells": [
  {
   "cell_type": "code",
   "execution_count": 1,
   "id": "36eb6458",
   "metadata": {},
   "outputs": [],
   "source": [
    "import numpy as np\n",
    "import xgboost as xgb\n",
    "from sklearn.model_selection import train_test_split\n",
    "from sklearn.metrics import confusion_matrix, roc_curve, roc_auc_score, auc\n",
    "import glob\n",
    "import matplotlib.pyplot as plt\n",
    "from time import strftime"
   ]
  },
  {
   "cell_type": "code",
   "execution_count": 2,
   "id": "e67294ad",
   "metadata": {},
   "outputs": [],
   "source": [
    "def get_bkg_features(sets_of_npzs, weights, n_target_events=10000):\n",
    "    \"\"\"\n",
    "    Gets a combined, weighted combination of events\n",
    "    \"\"\"\n",
    "    weights /= np.sum(weights) # normalize\n",
    "    print(f'weights: {weights}')\n",
    "    n_events_per_set = (weights * n_target_events).astype(np.int32)\n",
    "\n",
    "    print(f'n_events per set: {n_events_per_set}')\n",
    "    X_combined = []\n",
    "    for n_events, npzs in zip(n_events_per_set, sets_of_npzs):\n",
    "        print(f'n_events: {n_events}')\n",
    "        n_events_todo = n_events\n",
    "        for npz in npzs:\n",
    "            X = np.load(npz)['X'][:,:10]\n",
    "            n_events_this_npz = X.shape[0]\n",
    "            if n_events_this_npz > n_events_todo:\n",
    "                X = X[:n_events_todo]\n",
    "                \n",
    "            X_combined.append(X)\n",
    "            n_events_todo -= X.shape[0]\n",
    "            if n_events_todo == 0: break\n",
    "        else:\n",
    "            print(f'Warning: reached end of set of files with n_events_todo={n_events_todo}')\n",
    "    X_final = np.vstack(X_combined)\n",
    "    \n",
    "    assert len(X_final.shape) == 2\n",
    "    assert X_final.shape[1] == 10\n",
    "    return X_final"
   ]
  },
  {
   "cell_type": "code",
   "execution_count": 3,
   "id": "7b1f3636",
   "metadata": {},
   "outputs": [
    {
     "name": "stdout",
     "output_type": "stream",
     "text": [
      "weights: [0.90183406 0.07300813 0.0206896  0.00347733 0.00099088]\n",
      "n_events per set: [9018  730  206   34    9]\n",
      "n_events: 9018\n",
      "n_events: 730\n",
      "n_events: 206\n",
      "n_events: 34\n",
      "n_events: 9\n"
     ]
    }
   ],
   "source": [
    "#labels = ['QCD_Pt_300to470', 'QCD_Pt_470to600', 'QCD_Pt_600to800', 'QCD_Pt_800to1000', 'QCD_Pt_1000to1400', 'SingleLeptFromTbar_TuneCP5', 'SingleLeptFromT_TuneCP5','TTJets_TuneCP5_13TeV', 'HT-600to800', 'HT-800to1200', 'HT-1200to2500', 'HT-2500toInf'] #ttjets bins are taken from AN2019-061 v15\n",
    "#crosssections = [6826.0, 552.6, 156.6, 26.32, 7.50, 831.76*0.219, 831.76*0.219, 831.76, 1.808, 0.7490, 0.1315, 0.001420] #values of cross sections taken from https://github.com/tklijnsma/svj-bdt/blob/main/crosssections.py\n",
    "\n",
    "#labels = ['SingleLeptFromTbar_TuneCP5', 'SingleLeptFromT_TuneCP5','TTJets_TuneCP5_13TeV', 'HT-600to800', 'HT-800to1200','HT-1200to2500', 'HT-2500toInf']\n",
    "#crosssections = [831.76*0.219, 831.76*0.219, 831.76, 1.808, 0.7490, 0.1315, 0.001420] #values of cross sections taken from https://github.com/tklijnsma/svj-bdt/blob/main/crosssections.py\n",
    "\n",
    "#labels = ['QCD_Pt_1000to1400']\n",
    "#crosssections = [7.50*0.0438]\n",
    "\n",
    "labels = ['QCD_Pt_300to470', 'QCD_Pt_470to600', 'QCD_Pt_600to800', 'QCD_Pt_800to1000', 'QCD_Pt_1000to1400']\n",
    "crosssections = [6826.0, 552.6, 156.6, 26.32, 7.50]\n",
    "sets_of_npzs = [ glob.iglob(f'/home/snabili/data/bdt/svj-bdt/data/bkg_all/*{l}*/*.npz') for l in labels ]\n",
    "#print(f'crosssections: ', crosssections)\n",
    "#print(f'sets of npzs: ', sets_of_npzs)\n",
    "X_bkg = get_bkg_features(sets_of_npzs, crosssections)\n",
    "#X_bkg\n",
    "#print(f'length of X_bkg',len(X_bkg))\n",
    "y_bkg = np.zeros(X_bkg.shape[0])"
   ]
  },
  {
   "cell_type": "code",
   "execution_count": 4,
   "id": "dc44611a",
   "metadata": {},
   "outputs": [],
   "source": [
    "def get_sig_features(sets_of_npzs, weights, n_target_events=7000):\n",
    "    \"\"\"\n",
    "    Gets a combined, weighted combination of events\n",
    "    \"\"\"\n",
    "    weights /= np.sum(weights) # normalize\n",
    "    print(f'weights: {weights}')\n",
    "    n_events_per_set = (weights * n_target_events).astype(np.int32)\n",
    "\n",
    "    print(f'n_events per set: {n_events_per_set}')\n",
    "\n",
    "    X_combined = []\n",
    "    for n_events, npzs in zip(n_events_per_set, sets_of_npzs):\n",
    "        print(f'n_events: {n_events}')\n",
    "        n_events_todo = n_events\n",
    "        for npz in npzs:\n",
    "            #print(f'npz files: {npz}')\n",
    "            X = np.load(npz)['X'][:,:10]\n",
    "            #X = np.load(npz)\n",
    "            n_events_this_npz = X.shape[0]\n",
    "            if n_events_this_npz > n_events_todo:\n",
    "                X = X[:n_events_todo]\n",
    "            X_combined.append(X)\n",
    "            n_events_todo -= X.shape[0]\n",
    "            if n_events_todo == 0: break\n",
    "        else:\n",
    "            print(f'Warning: reached end of set of files with n_events_todo={n_events_todo}')\n",
    "\n",
    "    X_final = np.vstack(X_combined)\n",
    "    assert len(X_final.shape) == 2\n",
    "    assert X_final.shape[1] == 10\n",
    "    return X_final"
   ]
  },
  {
   "cell_type": "code",
   "execution_count": 5,
   "id": "e0d5ec4f",
   "metadata": {},
   "outputs": [
    {
     "name": "stdout",
     "output_type": "stream",
     "text": [
      "weights: [0.25 0.25 0.25 0.25]\n",
      "n_events per set: [1750 1750 1750 1750]\n",
      "n_events: 1750\n",
      "n_events: 1750\n",
      "n_events: 1750\n",
      "n_events: 1750\n",
      "Warning: reached end of set of files with n_events_todo=242\n"
     ]
    }
   ],
   "source": [
    "labels_sig = ['mz250', 'mz300', 'mz350', 'mz400', 'mz450']\n",
    "sig_xsec = [1,1,1,1]\n",
    "#labels_sig = ['mz300', 'mz350', 'mz400', 'mz450']\n",
    "#labels_sig = ['mz400']\n",
    "#sig_xsec = [1]\n",
    "sig_npzfiles = [ glob.iglob(f'/data/users/snabili/bdt/svj-bdt/data/signal/*{l}*/*.npz') for l in labels_sig ]\n",
    "X_signal = get_sig_features(sig_npzfiles, sig_xsec)\n",
    "y_signal = np.ones(X_signal.shape[0])"
   ]
  },
  {
   "cell_type": "code",
   "execution_count": 23,
   "id": "618e467f",
   "metadata": {},
   "outputs": [
    {
     "name": "stdout",
     "output_type": "stream",
     "text": [
      "y: [1 1 1 ... 0 0 0]\n",
      "y.shape[0]/np.sum(y): 2.479283811778633\n"
     ]
    }
   ],
   "source": [
    "X = np.vstack((X_signal, X_bkg))\n",
    "y = np.concatenate((y_signal, y_bkg)).astype(np.int8)\n",
    "print(f'y: {y}')\n",
    "print(f'y.shape[0]/np.sum(y): {y.shape[0]/np.sum(y)}')\n",
    "X_train, X_test, y_train, y_test = train_test_split(X, y, test_size=.2)\n",
    "y_train = y_train.astype(np.int8)\n",
    "y_test = y_test.astype(np.int8)"
   ]
  },
  {
   "cell_type": "code",
   "execution_count": 7,
   "id": "6486c892",
   "metadata": {},
   "outputs": [
    {
     "data": {
      "text/plain": [
       "array([1, 1, 1, ..., 0, 1, 0], dtype=int8)"
      ]
     },
     "execution_count": 7,
     "metadata": {},
     "output_type": "execute_result"
    }
   ],
   "source": [
    "y_train"
   ]
  },
  {
   "cell_type": "code",
   "execution_count": 8,
   "id": "6ddacbba",
   "metadata": {},
   "outputs": [
    {
     "name": "stderr",
     "output_type": "stream",
     "text": [
      "/home/snabili/miniconda3/envs/svj-bdt/lib/python3.9/site-packages/xgboost/sklearn.py:1146: UserWarning: The use of label encoder in XGBClassifier is deprecated and will be removed in a future release. To remove this warning, do the following: 1) Pass option use_label_encoder=False when constructing XGBClassifier object; and 2) Encode your labels (y) as integers starting with 0, i.e. 0, 1, 2, ..., [num_class - 1].\n",
      "  warnings.warn(label_encoder_deprecation_msg, UserWarning)\n"
     ]
    },
    {
     "name": "stdout",
     "output_type": "stream",
     "text": [
      "[11:28:22] WARNING: ../src/learner.cc:1095: Starting in XGBoost 1.3.0, the default evaluation metric used with the objective 'binary:logistic' was changed from 'error' to 'logloss'. Explicitly set eval_metric if you'd like to restore the old behavior.\n"
     ]
    },
    {
     "data": {
      "text/plain": [
       "XGBClassifier(base_score=0.5, booster='gbtree', colsample_bylevel=1,\n",
       "              colsample_bynode=1, colsample_bytree=1, eta=0.03, gamma=0,\n",
       "              gpu_id=-1, importance_type='gain', interaction_constraints='',\n",
       "              learning_rate=0.0299999993, max_delta_step=0, max_depth=4,\n",
       "              min_child_weight=1, missing=nan, monotone_constraints='()',\n",
       "              n_estimators=1000, n_jobs=8, num_parallel_tree=1, random_state=0,\n",
       "              reg_alpha=0, reg_lambda=1, scale_pos_weight=2.479283811778633,\n",
       "              subsample=1, tree_method='exact', validate_parameters=1,\n",
       "              verbosity=None)"
      ]
     },
     "execution_count": 8,
     "metadata": {},
     "output_type": "execute_result"
    }
   ],
   "source": [
    "model = xgb.XGBClassifier(\n",
    "    eta=.03, scale_pos_weight=y.shape[0]/np.sum(y),\n",
    "    #max_depth=3,\n",
    "    #n_estimators=850,\n",
    "    max_depth=4,\n",
    "    n_estimators=1000,\n",
    "\n",
    "    )\n",
    "model.fit(X_train, y_train)\n",
    "\n",
    "# NTrees=850\n",
    "# MinNodeSize=2.5%\n",
    "# MaxDepth=3\n",
    "# BoostType=AdaBoost\n",
    "# AdaBoostBeta=0.5\n",
    "# UseBaggedBoost\n",
    "# BaggedSampleFraction=0.5\n",
    "# SeparationType=GiniIndex\n",
    "# nCuts=20\n"
   ]
  },
  {
   "cell_type": "code",
   "execution_count": 9,
   "id": "ff7fc21f",
   "metadata": {},
   "outputs": [
    {
     "data": {
      "text/plain": [
       "array([[1276,  698],\n",
       "       [ 187, 1190]])"
      ]
     },
     "execution_count": 9,
     "metadata": {},
     "output_type": "execute_result"
    }
   ],
   "source": [
    "y_pred = model.predict(X_test)\n",
    "y_prob = model.predict_proba(X_test)[:,1]\n",
    "confusion_matrix(y_test, y_pred)"
   ]
  },
  {
   "cell_type": "code",
   "execution_count": 10,
   "id": "e154020c",
   "metadata": {},
   "outputs": [
    {
     "name": "stdout",
     "output_type": "stream",
     "text": [
      "Feature: 0, Score: 0.04348\n",
      "Feature: 1, Score: 0.04290\n",
      "Feature: 2, Score: 0.12439\n",
      "Feature: 3, Score: 0.24891\n",
      "Feature: 4, Score: 0.04392\n",
      "Feature: 5, Score: 0.09475\n",
      "Feature: 6, Score: 0.13221\n",
      "Feature: 7, Score: 0.03703\n",
      "Feature: 8, Score: 0.19655\n",
      "Feature: 9, Score: 0.03585\n"
     ]
    }
   ],
   "source": [
    "importance = model.feature_importances_\n",
    "for i,v in enumerate(importance):\n",
    "  print('Feature: %0d, Score: %.5f' % (i,v))"
   ]
  },
  {
   "cell_type": "code",
   "execution_count": 11,
   "id": "d08c1bf9",
   "metadata": {},
   "outputs": [
    {
     "data": {
      "image/png": "[encoded data removed]",
      "text/plain": [
       "<Figure size 432x432 with 1 Axes>"
      ]
     },
     "metadata": {
      "needs_background": "light"
     },
     "output_type": "display_data"
    }
   ],
   "source": [
    "eff_bkg, eff_sig, cuts = roc_curve(y_test, y_prob)\n",
    "\n",
    "fig = plt.figure(figsize=(6,6))\n",
    "ax = fig.gca()\n",
    "ax.plot([0,1], [0,1], c='gray')\n",
    "ax.plot(eff_bkg, eff_sig)\n",
    "ax.set_ylim(0., 1.)\n",
    "ax.set_xlim(0., 1.)\n",
    "ax.set_xlabel('Bkg efficiency')\n",
    "ax.set_ylabel('Sig efficiency')\n",
    "fig.savefig('bdt_roccurve.pdf')"
   ]
  },
  {
   "cell_type": "code",
   "execution_count": 12,
   "id": "9282aecd",
   "metadata": {},
   "outputs": [
    {
     "name": "stdout",
     "output_type": "stream",
     "text": [
      "eff_sig: 0.410, bkg_eff: 0.051, cut: 0.848\n",
      "eff_sig: 0.818, bkg_eff: 0.312, cut: 0.562\n"
     ]
    }
   ],
   "source": [
    "i_wp = np.argmax(eff_bkg >= .05)\n",
    "print(f'eff_sig: {eff_sig[i_wp]:.3f}, bkg_eff: {eff_bkg[i_wp]:.3f}, cut: {cuts[i_wp]:.3f}')\n",
    "\n",
    "i_wp = np.argmax(eff_bkg >= .31)\n",
    "print(f'eff_sig: {eff_sig[i_wp]:.3f}, bkg_eff: {eff_bkg[i_wp]:.3f}, cut: {cuts[i_wp]:.3f}')"
   ]
  },
  {
   "cell_type": "code",
   "execution_count": 13,
   "id": "c811ba43",
   "metadata": {},
   "outputs": [],
   "source": [
    "model.save_model(strftime('svjbdt_%b%d.json'))"
   ]
  },
  {
   "cell_type": "code",
   "execution_count": 14,
   "id": "b03cf489",
   "metadata": {},
   "outputs": [
    {
     "data": {
      "text/plain": [
       "0.8425979270089964"
      ]
     },
     "execution_count": 14,
     "metadata": {},
     "output_type": "execute_result"
    }
   ],
   "source": [
    "auc(eff_bkg, eff_sig)"
   ]
  },
  {
   "cell_type": "code",
   "execution_count": 15,
   "id": "32949834",
   "metadata": {},
   "outputs": [],
   "source": [
    "y_prob_sig = y_prob[y_test == 1]\n",
    "y_prob_bkg = y_prob[y_test == 0]"
   ]
  },
  {
   "cell_type": "code",
   "execution_count": 16,
   "id": "c8998c48",
   "metadata": {},
   "outputs": [
    {
     "data": {
      "image/png": "[encoded data removed]",
      "text/plain": [
       "<Figure size 432x432 with 1 Axes>"
      ]
     },
     "metadata": {
      "needs_background": "light"
     },
     "output_type": "display_data"
    }
   ],
   "source": [
    "fig = plt.figure(figsize=(6,6))\n",
    "ax = fig.gca()\n",
    "\n",
    "ax.hist(y_prob_sig, label='sig mz400', density=False, bins=15)\n",
    "ax.hist(y_prob_bkg, label='qcd bin5', alpha=.5, density=False, bins=15)\n",
    "ax.legend()\n",
    "ax.set_ylabel('A.U.')\n",
    "ax.set_xlabel('BDT score')\n",
    "fig.savefig('bdtscores_allsig.png')\n",
    "fig.savefig('bdtscores_allsig.pdf')"
   ]
  },
  {
   "cell_type": "code",
   "execution_count": 17,
   "id": "592ffedb",
   "metadata": {},
   "outputs": [],
   "source": [
    "corrmat = np.corrcoef(X)\n",
    "corrmat = np.corrcoef(X.T)"
   ]
  },
  {
   "cell_type": "code",
   "execution_count": 18,
   "id": "c24b7fad",
   "metadata": {},
   "outputs": [
    {
     "data": {
      "text/plain": [
       "(10, 10)"
      ]
     },
     "execution_count": 18,
     "metadata": {},
     "output_type": "execute_result"
    }
   ],
   "source": [
    "corrmat.shape"
   ]
  },
  {
   "cell_type": "code",
   "execution_count": 19,
   "id": "e4fc5eae",
   "metadata": {},
   "outputs": [
    {
     "name": "stderr",
     "output_type": "stream",
     "text": [
      "/tmp/ipykernel_3914249/3557691023.py:5: UserWarning: FixedFormatter should only be used together with FixedLocator\n",
      "  ax.set_xticklabels(['']+labels, rotation=90)\n",
      "/tmp/ipykernel_3914249/3557691023.py:6: UserWarning: FixedFormatter should only be used together with FixedLocator\n",
      "  ax.set_yticklabels(['']+labels)\n"
     ]
    },
    {
     "data": {
      "image/png": "[encoded data removed]",
      "text/plain": [
       "<Figure size 576x576 with 2 Axes>"
      ]
     },
     "metadata": {
      "needs_background": "light"
     },
     "output_type": "display_data"
    }
   ],
   "source": [
    "labels = ['girth', 'ptD', 'axismajor', 'axisminor', 'ecfM2b1', 'ecfD2b1', 'ecfC2b1', 'ecfN2b2', 'metdphi']\n",
    "fig = plt.figure(figsize=(8,8))\n",
    "ax = fig.gca()\n",
    "mshow = ax.matshow(corrmat, cmap=plt.cm.Reds)\n",
    "ax.set_xticklabels(['']+labels, rotation=90)\n",
    "ax.set_yticklabels(['']+labels)\n",
    "fig.savefig('correlationmatrix.pdf')\n",
    "\n",
    "cbar = fig.colorbar(mshow)\n",
    "cbar\n",
    "y_prob_sig.dtype = [('y_prob_sig', 'float32')]\n",
    "y_prob_bkg.dtype = [('y_prob_bkg', 'float32')]"
   ]
  },
  {
   "cell_type": "raw",
   "id": "062ca93b",
   "metadata": {},
   "source": [
    "dir(plt.cm)"
   ]
  },
  {
   "cell_type": "code",
   "execution_count": null,
   "id": "dc351bc7",
   "metadata": {},
   "outputs": [],
   "source": [
    "import numpy as np\n",
    "#data = np.load(\"../data/signal.npz\")\n",
    "#data.files\n",
    "data = np.load(\"../data/signal.npz\")['X'][:,:1]\n",
    "data\n",
    "#print(f'data first item is: {data.items()}')\n",
    "#data[0]\n",
    "#print('*'*50)\n",
    "#data[1]\n",
    "#all = [('data', 'float32')]\n",
    "#y_prob_bkg.dtype = [('y_prob_bkg', 'float32')]\n",
    "#array2root(all, \"test.root\", \"tree1\")"
   ]
  },
  {
   "cell_type": "code",
   "execution_count": null,
   "id": "0198cff2",
   "metadata": {},
   "outputs": [],
   "source": [
    "plt.cm.Reds"
   ]
  },
  {
   "cell_type": "markdown",
   "id": "0c83a595",
   "metadata": {},
   "source": [
    "## Check model IO"
   ]
  },
  {
   "cell_type": "code",
   "execution_count": 29,
   "id": "a9b65a68",
   "metadata": {},
   "outputs": [],
   "source": [
    "model2 = xgb.XGBClassifier()\n",
    "model2.load_model('svjbdt_Nov11.json')"
   ]
  },
  {
   "cell_type": "code",
   "execution_count": 47,
   "id": "d49db5f0",
   "metadata": {},
   "outputs": [],
   "source": [
    "bdt = model2.predict_proba(X_test)"
   ]
  },
  {
   "cell_type": "code",
   "execution_count": 49,
   "id": "b79af311",
   "metadata": {},
   "outputs": [
    {
     "data": {
      "text/plain": [
       "(array([[427., 626., 684., 546., 435., 420., 414., 482., 513., 933.],\n",
       "        [933., 513., 482., 414., 420., 435., 546., 684., 626., 427.]]),\n",
       " array([1.2790228e-04, 1.0010232e-01, 2.0007674e-01, 3.0005115e-01,\n",
       "        4.0002558e-01, 5.0000000e-01, 5.9997439e-01, 6.9994885e-01,\n",
       "        7.9992324e-01, 8.9989769e-01, 9.9987209e-01], dtype=float32),\n",
       " <a list of 2 BarContainer objects>)"
      ]
     },
     "execution_count": 49,
     "metadata": {},
     "output_type": "execute_result"
    },
    {
     "data": {
      "image/png": "[encoded data removed]",
      "text/plain": [
       "<Figure size 432x288 with 1 Axes>"
      ]
     },
     "metadata": {
      "needs_background": "light"
     },
     "output_type": "display_data"
    }
   ],
   "source": [
    "plt.hist(bdt)"
   ]
  },
  {
   "cell_type": "code",
   "execution_count": 39,
   "id": "4b0a21b9",
   "metadata": {},
   "outputs": [
    {
     "data": {
      "text/plain": [
       "array([[0.25703293, 0.74296707],\n",
       "       [0.15279174, 0.84720826]], dtype=float32)"
      ]
     },
     "execution_count": 39,
     "metadata": {},
     "output_type": "execute_result"
    }
   ],
   "source": [
    "model2.predict_proba(X_train[:2])"
   ]
  },
  {
   "cell_type": "code",
   "execution_count": null,
   "id": "f56d56b0",
   "metadata": {},
   "outputs": [],
   "source": []
  },
  {
   "cell_type": "code",
   "execution_count": null,
   "id": "85920c37",
   "metadata": {},
   "outputs": [],
   "source": []
  }
 ],
 "metadata": {
  "interpreter": {
   "hash": "df9a54f4167280a93502cf6bb4ca43638a1456594349236a070368164efd45b7"
  },
  "kernelspec": {
   "display_name": "Python 3 (ipykernel)",
   "language": "python",
   "name": "python3"
  },
  "language_info": {
   "codemirror_mode": {
    "name": "ipython",
    "version": 3
   },
   "file_extension": ".py",
   "mimetype": "text/x-python",
   "name": "python",
   "nbconvert_exporter": "python",
   "pygments_lexer": "ipython3",
   "version": "3.9.7"
  }
 },
 "nbformat": 4,
 "nbformat_minor": 5
}
