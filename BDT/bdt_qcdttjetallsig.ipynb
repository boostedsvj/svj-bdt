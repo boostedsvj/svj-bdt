{
 "cells": [
  {
   "cell_type": "code",
   "execution_count": 16,
   "id": "36eb6458",
   "metadata": {},
   "outputs": [],
   "source": [
    "import numpy as np\n",
    "import xgboost as xgb\n",
    "from sklearn.model_selection import train_test_split\n",
    "from sklearn.metrics import confusion_matrix, roc_curve, roc_auc_score, auc\n",
    "import glob\n",
    "import matplotlib.pyplot as plt\n",
    "from time import strftime"
   ]
  },
  {
   "cell_type": "code",
   "execution_count": 17,
   "id": "e67294ad",
   "metadata": {},
   "outputs": [],
   "source": [
    "def get_bkg_features(sets_of_npzs, weights, n_target_events=30000):\n",
    "    \"\"\"\n",
    "    Gets a combined, weighted combination of events\n",
    "    \"\"\"\n",
    "    weights /= np.sum(weights) # normalize\n",
    "    print(f'weights: {weights}')\n",
    "    n_events_per_set = (weights * n_target_events).astype(np.int32)\n",
    "\n",
    "    print(f'n_events per set: {n_events_per_set}')\n",
    "    X_combined = []\n",
    "    for n_events, npzs in zip(n_events_per_set, sets_of_npzs):\n",
    "        print(f'n_events: {n_events}')\n",
    "        n_events_todo = n_events\n",
    "        for npz in npzs:\n",
    "            X = np.load(npz)['X'][:,:9]\n",
    "            n_events_this_npz = X.shape[0]\n",
    "            if n_events_this_npz > n_events_todo:\n",
    "                X = X[:n_events_todo]\n",
    "                \n",
    "            X_combined.append(X)\n",
    "            n_events_todo -= X.shape[0]\n",
    "            if n_events_todo == 0: break\n",
    "        else:\n",
    "            print(f'Warning: reached end of set of files with n_events_todo={n_events_todo}')\n",
    "    X_final = np.vstack(X_combined)\n",
    "    \n",
    "    assert len(X_final.shape) == 2\n",
    "    assert X_final.shape[1] == 9\n",
    "    return X_final"
   ]
  },
  {
   "cell_type": "code",
   "execution_count": 44,
   "id": "7b1f3636",
   "metadata": {},
   "outputs": [
    {
     "name": "stdout",
     "output_type": "stream",
     "text": [
      "crosssections:  [182.15544, 182.15544, 831.76, 1.808, 0.749, 0.1315, 0.00142]\n",
      "sets of npzs:  [<generator object _iglob at 0x7f0382a94cf0>, <generator object _iglob at 0x7f0382a94f90>, <generator object _iglob at 0x7f0386610040>, <generator object _iglob at 0x7f0386610270>, <generator object _iglob at 0x7f03866103c0>, <generator object _iglob at 0x7f03866104a0>, <generator object _iglob at 0x7f0386610580>]\n",
      "weights: [1.51953117e-01 1.51953117e-01 6.93849849e-01 1.50822416e-03\n",
      " 6.24811889e-04 1.09696613e-04 1.18455659e-06]\n",
      "n_events per set: [ 4558  4558 20815    45    18     3     0]\n",
      "n_events: 4558\n",
      "n_events: 4558\n",
      "n_events: 20815\n",
      "Warning: reached end of set of files with n_events_todo=6697\n",
      "n_events: 45\n",
      "n_events: 18\n",
      "n_events: 3\n",
      "n_events: 0\n",
      "length of X_bkg 23300\n"
     ]
    }
   ],
   "source": [
    "#labels = ['QCD_Pt_300to470', 'QCD_Pt_470to600', 'QCD_Pt_600to800', 'QCD_Pt_800to1000', 'QCD_Pt_1000to1400', 'SingleLeptFromTbar_TuneCP5', 'SingleLeptFromT_TuneCP5','TTJets_TuneCP5_13TeV', 'HT-600to800', 'HT-800to1200', 'HT-1200to2500', 'HT-2500toInf'] #ttjets bins are taken from AN2019-061 v15\n",
    "#crosssections = [6826.0, 552.6, 156.6, 26.32, 7.50, 831.76*0.219, 831.76*0.219, 831.76, 1.808, 0.7490, 0.1315, 0.001420] #values of cross sections taken from https://github.com/tklijnsma/svj-bdt/blob/main/crosssections.py\n",
    "\n",
    "labels = ['SingleLeptFromTbar_TuneCP5', 'SingleLeptFromT_TuneCP5','TTJets_TuneCP5_13TeV', 'HT-600to800', 'HT-800to1200','HT-1200to2500', 'HT-2500toInf']\n",
    "crosssections = [831.76*0.219, 831.76*0.219, 831.76, 1.808, 0.7490, 0.1315, 0.001420] #values of cross sections taken from https://github.com/tklijnsma/svj-bdt/blob/main/crosssections.py\n",
    "#labels = ['QCD_Pt_300to470', 'QCD_Pt_470to600', 'QCD_Pt_600to800', 'QCD_Pt_800to1000', 'QCD_Pt_1000to1400']\n",
    "#crosssections = [6826.0, 552.6, 156.6, 26.32, 7.50]\n",
    "sets_of_npzs = [ glob.iglob(f'/home/snabili/data/bdt/svj-bdt/data/bkg/*{l}*/*.npz') for l in labels ]\n",
    "print(f'crosssections: ', crosssections)\n",
    "print(f'sets of npzs: ', sets_of_npzs)\n",
    "X_bkg = get_bkg_features(sets_of_npzs, crosssections)\n",
    "print(f'length of X_bkg',len(X_bkg))\n",
    "y_bkg = np.zeros(X_bkg.shape[0])"
   ]
  },
  {
   "cell_type": "code",
   "execution_count": 45,
   "id": "dc44611a",
   "metadata": {},
   "outputs": [],
   "source": [
    "def get_sig_features(sets_of_npzs, weights, n_target_events=7500):\n",
    "    \"\"\"\n",
    "    Gets a combined, weighted combination of events\n",
    "    \"\"\"\n",
    "    weights /= np.sum(weights) # normalize\n",
    "    print(f'weights: {weights}')\n",
    "    n_events_per_set = (weights * n_target_events).astype(np.int32)\n",
    "\n",
    "    print(f'n_events per set: {n_events_per_set}')\n",
    "\n",
    "    X_combined = []\n",
    "    for n_events, npzs in zip(n_events_per_set, sets_of_npzs):\n",
    "        print(f'n_events: {n_events}')\n",
    "        n_events_todo = n_events\n",
    "        for npz in npzs:\n",
    "            X = np.load(npz)['X'][:,:9]\n",
    "            n_events_this_npz = X.shape[0]\n",
    "            if n_events_this_npz > n_events_todo:\n",
    "                X = X[:n_events_todo]\n",
    "            X_combined.append(X)\n",
    "            n_events_todo -= X.shape[0]\n",
    "            if n_events_todo == 0: break\n",
    "        else:\n",
    "            print(f'Warning: reached end of set of files with n_events_todo={n_events_todo}')\n",
    "\n",
    "    X_final = np.vstack(X_combined)\n",
    "    assert len(X_final.shape) == 2\n",
    "    assert X_final.shape[1] == 9\n",
    "    return X_final"
   ]
  },
  {
   "cell_type": "code",
   "execution_count": 46,
   "id": "e0d5ec4f",
   "metadata": {},
   "outputs": [
    {
     "name": "stdout",
     "output_type": "stream",
     "text": [
      " signal weights are: [1, 1, 1, 1, 1]\n",
      "weights: [0.2 0.2 0.2 0.2 0.2]\n",
      "n_events per set: [1500 1500 1500 1500 1500]\n",
      "n_events: 1500\n",
      "Warning: reached end of set of files with n_events_todo=413\n",
      "n_events: 1500\n",
      "n_events: 1500\n",
      "n_events: 1500\n",
      "n_events: 1500\n"
     ]
    }
   ],
   "source": [
    "labels_sig = ['mz250', 'mz300', 'mz350', 'mz400', 'mz450']\n",
    "sig_xsec = [1,1,1,1,1]\n",
    "sig_npzfiles = [ glob.iglob(f'/data/users/snabili/bdt/svj-bdt/files/signal/newsamples/{l}*/*.npz') for l in labels_sig ]\n",
    "print(f' signal weights are: {sig_xsec}')\n",
    "X_signal = get_sig_features(sig_npzfiles, sig_xsec)\n",
    "y_signal = np.ones(X_signal.shape[0])"
   ]
  },
  {
   "cell_type": "code",
   "execution_count": 47,
   "id": "618e467f",
   "metadata": {},
   "outputs": [],
   "source": [
    "X = np.vstack((X_signal, X_bkg))\n",
    "y = np.concatenate((y_signal, y_bkg)).astype(np.int8)\n",
    "X_train, X_test, y_train, y_test = train_test_split(X, y, test_size=.2)\n",
    "y_train = y_train.astype(np.int8)\n",
    "y_test = y_test.astype(np.int8)"
   ]
  },
  {
   "cell_type": "code",
   "execution_count": 48,
   "id": "6486c892",
   "metadata": {},
   "outputs": [
    {
     "data": {
      "text/plain": [
       "array([0, 1, 0, ..., 1, 0, 1], dtype=int8)"
      ]
     },
     "execution_count": 48,
     "metadata": {},
     "output_type": "execute_result"
    }
   ],
   "source": [
    "y_train"
   ]
  },
  {
   "cell_type": "code",
   "execution_count": 49,
   "id": "6ddacbba",
   "metadata": {},
   "outputs": [
    {
     "name": "stderr",
     "output_type": "stream",
     "text": [
      "/home/snabili/miniconda3/envs/svj-bdt/lib/python3.9/site-packages/xgboost/sklearn.py:1146: UserWarning: The use of label encoder in XGBClassifier is deprecated and will be removed in a future release. To remove this warning, do the following: 1) Pass option use_label_encoder=False when constructing XGBClassifier object; and 2) Encode your labels (y) as integers starting with 0, i.e. 0, 1, 2, ..., [num_class - 1].\n",
      "  warnings.warn(label_encoder_deprecation_msg, UserWarning)\n"
     ]
    },
    {
     "name": "stdout",
     "output_type": "stream",
     "text": [
      "[11:04:05] WARNING: ../src/learner.cc:1095: Starting in XGBoost 1.3.0, the default evaluation metric used with the objective 'binary:logistic' was changed from 'error' to 'logloss'. Explicitly set eval_metric if you'd like to restore the old behavior.\n"
     ]
    },
    {
     "data": {
      "text/plain": [
       "XGBClassifier(base_score=0.5, booster='gbtree', colsample_bylevel=1,\n",
       "              colsample_bynode=1, colsample_bytree=1, eta=0.03, gamma=0,\n",
       "              gpu_id=-1, importance_type='gain', interaction_constraints='',\n",
       "              learning_rate=0.0299999993, max_delta_step=0, max_depth=4,\n",
       "              min_child_weight=1, missing=nan, monotone_constraints='()',\n",
       "              n_estimators=1000, n_jobs=8, num_parallel_tree=1, random_state=0,\n",
       "              reg_alpha=0, reg_lambda=1, scale_pos_weight=4.28770989135036,\n",
       "              subsample=1, tree_method='exact', validate_parameters=1,\n",
       "              verbosity=None)"
      ]
     },
     "execution_count": 49,
     "metadata": {},
     "output_type": "execute_result"
    }
   ],
   "source": [
    "model = xgb.XGBClassifier(\n",
    "    eta=.03, scale_pos_weight=y.shape[0]/np.sum(y),\n",
    "    #max_depth=3,\n",
    "    #n_estimators=850,\n",
    "    max_depth=4,\n",
    "    n_estimators=1000,\n",
    "\n",
    "    )\n",
    "model.fit(X_train, y_train)\n",
    "\n",
    "# NTrees=850\n",
    "# MinNodeSize=2.5%\n",
    "# MaxDepth=3\n",
    "# BoostType=AdaBoost\n",
    "# AdaBoostBeta=0.5\n",
    "# UseBaggedBoost\n",
    "# BaggedSampleFraction=0.5\n",
    "# SeparationType=GiniIndex\n",
    "# nCuts=20\n"
   ]
  },
  {
   "cell_type": "code",
   "execution_count": 50,
   "id": "ff7fc21f",
   "metadata": {},
   "outputs": [
    {
     "data": {
      "text/plain": [
       "array([[3621,  985],\n",
       "       [ 221, 1251]])"
      ]
     },
     "execution_count": 50,
     "metadata": {},
     "output_type": "execute_result"
    }
   ],
   "source": [
    "y_pred = model.predict(X_test)\n",
    "y_prob = model.predict_proba(X_test)[:,1]\n",
    "confusion_matrix(y_test, y_pred)"
   ]
  },
  {
   "cell_type": "code",
   "execution_count": 51,
   "id": "d08c1bf9",
   "metadata": {},
   "outputs": [
    {
     "data": {
      "image/png": "[encoded data removed]",
      "text/plain": [
       "<Figure size 432x432 with 1 Axes>"
      ]
     },
     "metadata": {
      "needs_background": "light"
     },
     "output_type": "display_data"
    }
   ],
   "source": [
    "eff_bkg, eff_sig, cuts = roc_curve(y_test, y_prob)\n",
    "\n",
    "fig = plt.figure(figsize=(6,6))\n",
    "ax = fig.gca()\n",
    "ax.plot([0,1], [0,1], c='gray')\n",
    "ax.plot(eff_bkg, eff_sig)\n",
    "ax.set_ylim(0., 1.)\n",
    "ax.set_xlim(0., 1.)\n",
    "ax.set_xlabel('Bkg efficiency')\n",
    "ax.set_ylabel('Sig efficiency')\n",
    "fig.savefig('bdt_roccurve.pdf')"
   ]
  },
  {
   "cell_type": "code",
   "execution_count": 52,
   "id": "9282aecd",
   "metadata": {},
   "outputs": [
    {
     "name": "stdout",
     "output_type": "stream",
     "text": [
      "eff_sig: 0.524, bkg_eff: 0.051, cut: 0.823\n",
      "eff_sig: 0.925, bkg_eff: 0.314, cut: 0.350\n"
     ]
    }
   ],
   "source": [
    "i_wp = np.argmax(eff_bkg >= .05)\n",
    "print(f'eff_sig: {eff_sig[i_wp]:.3f}, bkg_eff: {eff_bkg[i_wp]:.3f}, cut: {cuts[i_wp]:.3f}')\n",
    "\n",
    "i_wp = np.argmax(eff_bkg >= .31)\n",
    "print(f'eff_sig: {eff_sig[i_wp]:.3f}, bkg_eff: {eff_bkg[i_wp]:.3f}, cut: {cuts[i_wp]:.3f}')"
   ]
  },
  {
   "cell_type": "code",
   "execution_count": 53,
   "id": "c811ba43",
   "metadata": {},
   "outputs": [],
   "source": [
    "model.save_model(strftime('svjbdt_%b%d.json'))"
   ]
  },
  {
   "cell_type": "code",
   "execution_count": 54,
   "id": "b03cf489",
   "metadata": {},
   "outputs": [
    {
     "data": {
      "text/plain": [
       "0.9021295179727764"
      ]
     },
     "execution_count": 54,
     "metadata": {},
     "output_type": "execute_result"
    }
   ],
   "source": [
    "auc(eff_bkg, eff_sig)"
   ]
  },
  {
   "cell_type": "code",
   "execution_count": 55,
   "id": "32949834",
   "metadata": {},
   "outputs": [],
   "source": [
    "y_prob_sig = y_prob[y_test == 1]\n",
    "y_prob_bkg = y_prob[y_test == 0]"
   ]
  },
  {
   "cell_type": "code",
   "execution_count": 56,
   "id": "c8998c48",
   "metadata": {},
   "outputs": [
    {
     "data": {
      "image/png": "[encoded data removed]",
      "text/plain": [
       "<Figure size 432x432 with 1 Axes>"
      ]
     },
     "metadata": {
      "needs_background": "light"
     },
     "output_type": "display_data"
    }
   ],
   "source": [
    "fig = plt.figure(figsize=(6,6))\n",
    "ax = fig.gca()\n",
    "\n",
    "ax.hist(y_prob_sig, label='sig', density=True)\n",
    "ax.hist(y_prob_bkg, label='bkg', alpha=.5, density=True)\n",
    "ax.legend()\n",
    "ax.set_ylabel('A.U.')\n",
    "ax.set_xlabel('BDT score')\n",
    "fig.savefig('bdtscores_allsig.png')\n",
    "fig.savefig('bdtscores_allsig.pdf')"
   ]
  },
  {
   "cell_type": "code",
   "execution_count": 16,
   "id": "592ffedb",
   "metadata": {},
   "outputs": [],
   "source": [
    "corrmat = np.corrcoef(X)\n",
    "corrmat = np.corrcoef(X.T)"
   ]
  },
  {
   "cell_type": "code",
   "execution_count": 17,
   "id": "c24b7fad",
   "metadata": {},
   "outputs": [
    {
     "data": {
      "text/plain": [
       "(9, 9)"
      ]
     },
     "execution_count": 17,
     "metadata": {},
     "output_type": "execute_result"
    }
   ],
   "source": [
    "corrmat.shape"
   ]
  },
  {
   "cell_type": "code",
   "execution_count": 18,
   "id": "e4fc5eae",
   "metadata": {},
   "outputs": [
    {
     "name": "stderr",
     "output_type": "stream",
     "text": [
      "/tmp/ipykernel_122714/1757055225.py:5: UserWarning: FixedFormatter should only be used together with FixedLocator\n",
      "  ax.set_xticklabels(['']+labels, rotation=90)\n",
      "/tmp/ipykernel_122714/1757055225.py:6: UserWarning: FixedFormatter should only be used together with FixedLocator\n",
      "  ax.set_yticklabels(['']+labels)\n"
     ]
    },
    {
     "data": {
      "image/png": "[encoded data removed]",
      "text/plain": [
       "<Figure size 576x576 with 2 Axes>"
      ]
     },
     "metadata": {
      "needs_background": "light"
     },
     "output_type": "display_data"
    }
   ],
   "source": [
    "labels = ['girth', 'ptD', 'axismajor', 'axisminor', 'ecfM2b1', 'ecfD2b1', 'ecfC2b1', 'ecfN2b2', 'metdphi']\n",
    "fig = plt.figure(figsize=(8,8))\n",
    "ax = fig.gca()\n",
    "mshow = ax.matshow(corrmat, cmap=plt.cm.Reds)\n",
    "ax.set_xticklabels(['']+labels, rotation=90)\n",
    "ax.set_yticklabels(['']+labels)\n",
    "fig.savefig('correlationmatrix.pdf')\n",
    "\n",
    "cbar = fig.colorbar(mshow)\n",
    "cbar\n",
    "y_prob_sig.dtype = [('y_prob_sig', 'float32')]\n",
    "y_prob_bkg.dtype = [('y_prob_bkg', 'float32')]"
   ]
  },
  {
   "cell_type": "raw",
   "id": "062ca93b",
   "metadata": {},
   "source": [
    "dir(plt.cm)"
   ]
  },
  {
   "cell_type": "code",
   "execution_count": null,
   "id": "dc351bc7",
   "metadata": {},
   "outputs": [],
   "source": [
    "import numpy as np\n",
    "#data = np.load(\"../data/signal.npz\")\n",
    "#data.files\n",
    "data = np.load(\"../data/signal.npz\")['X'][:,:1]\n",
    "data\n",
    "#print(f'data first item is: {data.items()}')\n",
    "#data[0]\n",
    "#print('*'*50)\n",
    "#data[1]\n",
    "#all = [('data', 'float32')]\n",
    "#y_prob_bkg.dtype = [('y_prob_bkg', 'float32')]\n",
    "#array2root(all, \"test.root\", \"tree1\")"
   ]
  },
  {
   "cell_type": "code",
   "execution_count": null,
   "id": "0198cff2",
   "metadata": {},
   "outputs": [],
   "source": [
    "plt.cm.Reds"
   ]
  },
  {
   "cell_type": "markdown",
   "id": "0c83a595",
   "metadata": {},
   "source": [
    "## Check model IO"
   ]
  },
  {
   "cell_type": "code",
   "execution_count": 20,
   "id": "a9b65a68",
   "metadata": {},
   "outputs": [],
   "source": [
    "model2 = xgb.XGBClassifier()\n",
    "model2.load_model('svjbdt_Sep21.json')"
   ]
  },
  {
   "cell_type": "code",
   "execution_count": 21,
   "id": "d49db5f0",
   "metadata": {},
   "outputs": [
    {
     "data": {
      "text/plain": [
       "array([[0.8196123 , 0.18038766],\n",
       "       [0.67287016, 0.3271298 ],\n",
       "       [0.9984967 , 0.00150326],\n",
       "       [0.20984143, 0.79015857],\n",
       "       [0.17375535, 0.82624465],\n",
       "       [0.9924039 , 0.00759609],\n",
       "       [0.16784364, 0.83215636],\n",
       "       [0.9435164 , 0.05648363],\n",
       "       [0.75425124, 0.24574874],\n",
       "       [0.74996036, 0.25003964]], dtype=float32)"
      ]
     },
     "execution_count": 21,
     "metadata": {},
     "output_type": "execute_result"
    }
   ],
   "source": [
    "model.predict_proba(X_test[:10])"
   ]
  },
  {
   "cell_type": "code",
   "execution_count": 27,
   "id": "4b0a21b9",
   "metadata": {},
   "outputs": [
    {
     "data": {
      "text/plain": [
       "array([[0.9848402 , 0.01515981],\n",
       "       [0.8621958 , 0.1378042 ],\n",
       "       [0.25562108, 0.7443789 ],\n",
       "       [0.74413335, 0.25586662],\n",
       "       [0.10223418, 0.8977658 ],\n",
       "       [0.00329006, 0.99670994],\n",
       "       [0.36756986, 0.63243014],\n",
       "       [0.39677912, 0.6032209 ],\n",
       "       [0.6682416 , 0.3317584 ],\n",
       "       [0.06795782, 0.9320422 ]], dtype=float32)"
      ]
     },
     "execution_count": 27,
     "metadata": {},
     "output_type": "execute_result"
    }
   ],
   "source": [
    "model2.predict_proba(X_test[:10])"
   ]
  },
  {
   "cell_type": "code",
   "execution_count": null,
   "id": "f56d56b0",
   "metadata": {},
   "outputs": [],
   "source": []
  },
  {
   "cell_type": "code",
   "execution_count": null,
   "id": "85920c37",
   "metadata": {},
   "outputs": [],
   "source": []
  }
 ],
 "metadata": {
  "interpreter": {
   "hash": "df9a54f4167280a93502cf6bb4ca43638a1456594349236a070368164efd45b7"
  },
  "kernelspec": {
   "display_name": "Python 3 (ipykernel)",
   "language": "python",
   "name": "python3"
  },
  "language_info": {
   "codemirror_mode": {
    "name": "ipython",
    "version": 3
   },
   "file_extension": ".py",
   "mimetype": "text/x-python",
   "name": "python",
   "nbconvert_exporter": "python",
   "pygments_lexer": "ipython3",
   "version": "3.9.7"
  }
 },
 "nbformat": 4,
 "nbformat_minor": 5
}
