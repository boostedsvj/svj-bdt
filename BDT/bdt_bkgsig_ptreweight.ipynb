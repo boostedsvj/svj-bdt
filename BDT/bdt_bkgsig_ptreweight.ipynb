{
 "cells": [
  {
   "cell_type": "code",
   "execution_count": 1,
   "id": "36eb6458",
   "metadata": {},
   "outputs": [],
   "source": [
    "import numpy as np\n",
    "import xgboost as xgb\n",
    "from sklearn.model_selection import train_test_split\n",
    "from sklearn.metrics import confusion_matrix, roc_curve, roc_auc_score, auc\n",
    "import glob\n",
    "import matplotlib.pyplot as plt\n",
    "from time import strftime"
   ]
  },
  {
   "cell_type": "code",
   "execution_count": 48,
   "id": "da70e45c",
   "metadata": {},
   "outputs": [],
   "source": [
    "def get_bkg_features(sets_of_npzs, weights, mz400_template, mz400_xsec, n_target_events=30000, n_template = 2000):\n",
    "    \"\"\"\n",
    "    Gets a combined, weighted combination of events\n",
    "    \"\"\"\n",
    "    weights /= np.sum(weights) #normalize\n",
    "    mz400_xsec /= np.sum(mz400_xsec) #normalize\n",
    "    #print(f'weights: {weights}')\n",
    "    n_events_per_set = (weights * n_target_events).astype(np.int32)\n",
    "    nsig_events_per_set = (mz400_xsec *n_template).astype(np.int32)\n",
    "    #print(f'n_events per set: {n_events_per_set}')\n",
    "    \n",
    "    # produce signal benchmark pt histogram \n",
    "    #I used the mz'=400 as the template histogram    \n",
    "    for ns_events, nsig_pzs in zip(nsig_events_per_set, mz400_template):\n",
    "        n_events_todo = ns_events\n",
    "        mz400_comb = []        \n",
    "        for npz in nsig_pzs:\n",
    "            X = np.load(npz)['X'][:,:12]\n",
    "            n_events_this_npz = X.shape[0]\n",
    "            if n_events_this_npz > n_events_todo:\n",
    "                X = X[:n_events_todo]\n",
    "            mz400_comb.append(X)\n",
    "    mz400_final = np.vstack(mz400_comb)\n",
    "    pt_sig = mz400_final[:,11]\n",
    "    \n",
    "    #pt re-weight\n",
    "    W_pt = []\n",
    "    for n_events, npzs in zip(n_events_per_set, sets_of_npzs):\n",
    "        n_events_todo = n_events\n",
    "        for npz in npzs:\n",
    "            X = np.load(npz)['X'][:,:12]\n",
    "            print(f'npz {npz}')\n",
    "            n_events_this_npz = X.shape[0]\n",
    "            if n_events_this_npz > n_events_todo:\n",
    "                X = X[:n_events_todo]    \n",
    "            pt = []\n",
    "            pt_qcd = np.load(npz)['X'][:,11] \n",
    "            fig = plt.figure(figsize=(6,6))\n",
    "            ax1 = fig.gca()\n",
    "            pt.append(pt_qcd)\n",
    "            pt.append(pt_sig)\n",
    "            ns, bins, patches = ax1.hist(pt, bins=50, alpha=0.2, range=[100,1500], label=['qcd','sig'])\n",
    "            ax1.legend()\n",
    "            \n",
    "            w_pt = np.zeros((n_events_this_npz,1))\n",
    "            for i in range(len(pt_qcd)):\n",
    "              for j in range(len(ns[1])):\n",
    "               if bins[j]<pt_qcd[i] and bins[j+1]>pt_qcd[i] and ns[0,j] > 0:\n",
    "                w_pt[i] = ((ns[1][j]/ns[0][j]))              \n",
    "            if n_events_this_npz > n_events_todo:\n",
    "                w_pt = w_pt[:n_events_todo]\n",
    "            W_pt.append(w_pt)          \n",
    "            plt.close() #to close the display of the figures --> avoid memory intensive job\n",
    "            n_events_todo -= X.shape[0]\n",
    "            if n_events_todo == 0: break        \n",
    "        else:\n",
    "            print(f'Warning: reached end of set of files with n_events_todo={n_events_todo}')\n",
    "\n",
    "    wpt_final = np.vstack(W_pt)\n",
    "\n",
    "    X_COM = []\n",
    "    for n_events, npzs in zip(n_events_per_set, sets_of_npzs):\n",
    "        n_events_todo = n_events*wpt_final\n",
    "        for npz in npzs:\n",
    "            X = np.load(npz)['X'][:,:9]\n",
    "            n_events_this_npz = X.shape[0]*wpt_final\n",
    "            if n_events_this_npz.any() > n_events_todo.any():\n",
    "                X = X[:n_events_todo]\n",
    "            X_COM.append(X)\n",
    "            if n_events_todo.any() == 0: break        \n",
    "        #else:\n",
    "        #    print(f'Warning: reached end of set of files with n_events_todo={n_events_todo}')\n",
    "    X_FIN = np.vstack(X_COM)\n",
    "    assert len(X_FIN.shape) == 2\n",
    "    assert X_FIN.shape[1] == 9\n",
    "    print(f'shape of X_FIN: {X_FIN.shape}')\n",
    "    print(f'X_FIN value: {X_FIN[1,:9]}')\n",
    "    return X_FIN\n",
    "\n"
   ]
  },
  {
   "cell_type": "code",
   "execution_count": 3,
   "id": "7b1f3636",
   "metadata": {
    "scrolled": false
   },
   "outputs": [
    {
     "name": "stdout",
     "output_type": "stream",
     "text": [
      "shape of X_FIN: (1419833, 9)\n",
      "X_FIN value: [ 2.77706295e-01  5.91383055e-02  6.30000000e+01  1.52876526e-01\n",
      "  3.89953814e-02 -2.28401772e-01  1.15331918e-01  2.00300646e+00\n",
      "  2.10606176e-02]\n"
     ]
    }
   ],
   "source": [
    "labels = ['QCD_Pt_300to470', 'QCD_Pt_470to600', 'QCD_Pt_600to800', 'QCD_Pt_800to1000', 'QCD_Pt_1000to1400']\n",
    "crosssections = [6826.0*0.0023, 552.6*0.0442, 156.6*0.0656, 26.32*0.0516, 7.50*0.0438] #preselection (rtx>1.08) efficiencies are applied\n",
    "sets_of_npzs = [ glob.iglob(f'/home/snabili/data/bdt/svj-bdt/my_codes/parton_flavor/prebdt_Nov15/*{l}*/*.npz') for l in labels ]\n",
    "lab = ['mz400']\n",
    "sig_benchmark = [glob.iglob(f'/home/snabili/data/bdt/svj-bdt/my_codes/parton_flavor/prebdt_Nov15/*{l}*/*.npz') for l in lab]\n",
    "benchmark_weight = [0.0053627*578.3]\n",
    "X_bkg = get_bkg_features(sets_of_npzs, crosssections, sig_benchmark, benchmark_weight)\n",
    "y_bkg = np.zeros(X_bkg.shape[0])"
   ]
  },
  {
   "cell_type": "code",
   "execution_count": 66,
   "id": "dc44611a",
   "metadata": {},
   "outputs": [],
   "source": [
    "def get_sig_features(sets_of_npzs, weights, n_target_events=2000):\n",
    "    \"\"\"\n",
    "    Gets a combined, weighted combination of events\n",
    "    \"\"\"\n",
    "    weights /= np.sum(weights) # normalize\n",
    "    print(f'weights: {weights}')\n",
    "    n_events_per_set = (weights * n_target_events).astype(np.int32)\n",
    "\n",
    "    print(f'n_events per set: {n_events_per_set}')\n",
    "\n",
    "    X_combined = []\n",
    "    for n_events, npzs in zip(n_events_per_set, sets_of_npzs):\n",
    "        print(f'n_events: {n_events}')\n",
    "        n_events_todo = n_events\n",
    "        for npz in npzs:\n",
    "            X = np.load(npz)['X'][:,:9]\n",
    "            n_events_this_npz = X.shape[0]\n",
    "            if n_events_this_npz > n_events_todo:\n",
    "                X = X[:n_events_todo]\n",
    "            X_combined.append(X)\n",
    "            n_events_todo -= X.shape[0]\n",
    "            if n_events_todo == 0: break\n",
    "        else:\n",
    "            print(f'Warning: reached end of set of files with n_events_todo={n_events_todo}')\n",
    "\n",
    "    X_final = np.vstack(X_combined)\n",
    "    assert len(X_final.shape) == 2\n",
    "    assert X_final.shape[1] == 9\n",
    "    return X_final"
   ]
  },
  {
   "cell_type": "code",
   "execution_count": 67,
   "id": "e0d5ec4f",
   "metadata": {},
   "outputs": [
    {
     "name": "stdout",
     "output_type": "stream",
     "text": [
      "weights: [0.2 0.2 0.2 0.2 0.2]\n",
      "n_events per set: [400 400 400 400 400]\n",
      "n_events: 400\n",
      "n_events: 400\n",
      "n_events: 400\n",
      "n_events: 400\n",
      "n_events: 400\n"
     ]
    }
   ],
   "source": [
    "#signal npz files copied from /home/snabili/hadoop/NPZFiles/NPZFile_SignalTruth_ptreweight_TreeMaker\n",
    "#problematic files from mz250 are removed\n",
    "#### need to reweight signal too ###\n",
    "#sig_xsec = [0.0018112*2958, 0.0029704*1671, 0.003998*966.8, 0.0053627*578.3, 0.0073413*383.6]\n",
    "#lab = ['mz400']\n",
    "#sig_benchmark = [glob.iglob(f'/home/snabili/data/bdt/svj-bdt/my_codes/parton_flavor/prebdt_Nov15/*{l}*/*.npz') for l in lab]\n",
    "#benchmark_weight = [0.0053627*578.3]\n",
    "#X_signal = get_bkg_features(sig_npzfiles, sig_xsec, sig_benchmark, benchmark_weight)\n",
    "\n",
    "labels_sig = ['mz250','mz300','mz350','mz400','mz450']\n",
    "sig_xsec = [1,1,1,1,1]\n",
    "sig_npzfiles = [ glob.iglob(f'/home/snabili/data/bdt/svj-bdt/my_codes/parton_flavor/prebdt_Nov15/*{l}*/*.npz') for l in labels_sig ]\n",
    "X_signal = get_sig_features(sig_npzfiles, sig_xsec)\n",
    "y_signal = np.ones(X_signal.shape[0])"
   ]
  },
  {
   "cell_type": "code",
   "execution_count": 68,
   "id": "618e467f",
   "metadata": {},
   "outputs": [],
   "source": [
    "X = np.vstack((X_signal, X_bkg))\n",
    "y = np.concatenate((y_signal, y_bkg)).astype(np.int8)\n",
    "X_train, X_test, y_train, y_test = train_test_split(X, y, test_size=.2)\n",
    "y_train = y_train.astype(np.int8)\n",
    "y_test = y_test.astype(np.int8)"
   ]
  },
  {
   "cell_type": "code",
   "execution_count": 69,
   "id": "6486c892",
   "metadata": {},
   "outputs": [
    {
     "data": {
      "text/plain": [
       "array([0, 0, 0, ..., 0, 0, 0], dtype=int8)"
      ]
     },
     "execution_count": 69,
     "metadata": {},
     "output_type": "execute_result"
    }
   ],
   "source": [
    "y_train"
   ]
  },
  {
   "cell_type": "code",
   "execution_count": 70,
   "id": "6ddacbba",
   "metadata": {},
   "outputs": [
    {
     "name": "stderr",
     "output_type": "stream",
     "text": [
      "/home/snabili/miniconda3/envs/svj-bdt/lib/python3.9/site-packages/xgboost/sklearn.py:1146: UserWarning: The use of label encoder in XGBClassifier is deprecated and will be removed in a future release. To remove this warning, do the following: 1) Pass option use_label_encoder=False when constructing XGBClassifier object; and 2) Encode your labels (y) as integers starting with 0, i.e. 0, 1, 2, ..., [num_class - 1].\n",
      "  warnings.warn(label_encoder_deprecation_msg, UserWarning)\n"
     ]
    },
    {
     "data": {
      "text/plain": [
       "XGBClassifier(base_score=0.5, booster='gbtree', colsample_bylevel=1,\n",
       "              colsample_bynode=1, colsample_bytree=1, eta=0.03,\n",
       "              eval_metric='logloss', gamma=0, gpu_id=-1, importance_type='gain',\n",
       "              interaction_constraints='', learning_rate=0.0299999993,\n",
       "              max_delta_step=0, max_depth=4, min_child_weight=1, missing=nan,\n",
       "              monotone_constraints='()', n_estimators=1000, n_jobs=8,\n",
       "              num_parallel_tree=1, random_state=0, reg_alpha=0, reg_lambda=1,\n",
       "              scale_pos_weight=710.9165, subsample=1, tree_method='exact',\n",
       "              validate_parameters=1, verbosity=None)"
      ]
     },
     "execution_count": 70,
     "metadata": {},
     "output_type": "execute_result"
    }
   ],
   "source": [
    "model = xgb.XGBClassifier(\n",
    "    eta=.03, scale_pos_weight=y.shape[0]/np.sum(y),\n",
    "    max_depth=4,\n",
    "    n_estimators=1000,\n",
    "    eval_metric='logloss',\n",
    "    #use_label_encoder=False\n",
    "    )\n",
    "model.fit(X_train, y_train)"
   ]
  },
  {
   "cell_type": "code",
   "execution_count": 71,
   "id": "ff7fc21f",
   "metadata": {},
   "outputs": [
    {
     "data": {
      "text/plain": [
       "array([[254961,  29005],\n",
       "       [    85,    316]])"
      ]
     },
     "execution_count": 71,
     "metadata": {},
     "output_type": "execute_result"
    }
   ],
   "source": [
    "y_pred = model.predict(X_test)\n",
    "y_prob = model.predict_proba(X_test)[:,1]\n",
    "confusion_matrix(y_test, y_pred)"
   ]
  },
  {
   "cell_type": "code",
   "execution_count": 72,
   "id": "d08c1bf9",
   "metadata": {},
   "outputs": [
    {
     "data": {
      "image/png": "[encoded data removed]",
      "text/plain": [
       "<Figure size 432x432 with 1 Axes>"
      ]
     },
     "metadata": {
      "needs_background": "light"
     },
     "output_type": "display_data"
    }
   ],
   "source": [
    "eff_bkg, eff_sig, cuts = roc_curve(y_test, y_prob)\n",
    "\n",
    "fig = plt.figure(figsize=(6,6))\n",
    "ax = fig.gca()\n",
    "ax.plot([0,1], [0,1], c='gray')\n",
    "ax.plot(eff_bkg, eff_sig)\n",
    "ax.set_ylim(0., 1.)\n",
    "ax.set_xlim(0., 1.)\n",
    "ax.set_xlabel('Bkg efficiency')\n",
    "ax.set_ylabel('Sig efficiency')\n",
    "fig.savefig('bdt_roccurve.pdf')"
   ]
  },
  {
   "cell_type": "code",
   "execution_count": 73,
   "id": "9282aecd",
   "metadata": {},
   "outputs": [
    {
     "name": "stdout",
     "output_type": "stream",
     "text": [
      "eff_sig: 0.648, bkg_eff: 0.050, cut: 0.716\n",
      "eff_sig: 0.958, bkg_eff: 0.310, cut: 0.084\n"
     ]
    }
   ],
   "source": [
    "i_wp = np.argmax(eff_bkg >= .05)\n",
    "print(f'eff_sig: {eff_sig[i_wp]:.3f}, bkg_eff: {eff_bkg[i_wp]:.3f}, cut: {cuts[i_wp]:.3f}')\n",
    "\n",
    "i_wp = np.argmax(eff_bkg >= .31)\n",
    "print(f'eff_sig: {eff_sig[i_wp]:.3f}, bkg_eff: {eff_bkg[i_wp]:.3f}, cut: {cuts[i_wp]:.3f}')"
   ]
  },
  {
   "cell_type": "code",
   "execution_count": 74,
   "id": "c811ba43",
   "metadata": {},
   "outputs": [],
   "source": [
    "model.save_model(strftime('svjbdt_%b%d.json'))"
   ]
  },
  {
   "cell_type": "code",
   "execution_count": 75,
   "id": "b03cf489",
   "metadata": {},
   "outputs": [
    {
     "data": {
      "text/plain": [
       "0.9297383789914225"
      ]
     },
     "execution_count": 75,
     "metadata": {},
     "output_type": "execute_result"
    }
   ],
   "source": [
    "auc(eff_bkg, eff_sig)"
   ]
  },
  {
   "cell_type": "code",
   "execution_count": 76,
   "id": "32949834",
   "metadata": {},
   "outputs": [],
   "source": [
    "y_prob_sig = y_prob[y_test == 1]\n",
    "y_prob_bkg = y_prob[y_test == 0]"
   ]
  },
  {
   "cell_type": "code",
   "execution_count": 77,
   "id": "c8998c48",
   "metadata": {},
   "outputs": [
    {
     "data": {
      "image/png": "[encoded data removed]",
      "text/plain": [
       "<Figure size 432x432 with 1 Axes>"
      ]
     },
     "metadata": {
      "needs_background": "light"
     },
     "output_type": "display_data"
    }
   ],
   "source": [
    "fig = plt.figure(figsize=(6,6))\n",
    "ax = fig.gca()\n",
    "\n",
    "ax.hist(y_prob_sig, label='sig', density=True, bins=7)\n",
    "ax.hist(y_prob_bkg, label='bkg', alpha=.8, density=True, bins=7)\n",
    "ax.legend()\n",
    "ax.set_ylabel('A.U.')\n",
    "ax.set_xlabel('BDT score')\n",
    "fig.savefig('bdtscores_allsig.png')\n",
    "fig.savefig('bdtscores_allsig.pdf')"
   ]
  }
 ],
 "metadata": {
  "interpreter": {
   "hash": "df9a54f4167280a93502cf6bb4ca43638a1456594349236a070368164efd45b7"
  },
  "kernelspec": {
   "display_name": "Python 3 (ipykernel)",
   "language": "python",
   "name": "python3"
  },
  "language_info": {
   "codemirror_mode": {
    "name": "ipython",
    "version": 3
   },
   "file_extension": ".py",
   "mimetype": "text/x-python",
   "name": "python",
   "nbconvert_exporter": "python",
   "pygments_lexer": "ipython3",
   "version": "3.9.7"
  }
 },
 "nbformat": 4,
 "nbformat_minor": 5
}
